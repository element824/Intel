{
 "cells": [
  {
   "cell_type": "code",
   "execution_count": 1,
   "metadata": {},
   "outputs": [],
   "source": [
    "import pyrealsense2 as rs\n",
    "import matplotlib as plt\n",
    "import cv2\n",
    "import logging\n",
    "import numpy as np\n",
    "import time"
   ]
  },
  {
   "cell_type": "code",
   "execution_count": 2,
   "metadata": {},
   "outputs": [],
   "source": [
    "ctx = rs.context()\n",
    "devices = ctx.query_devices()"
   ]
  },
  {
   "cell_type": "code",
   "execution_count": 3,
   "metadata": {},
   "outputs": [
    {
     "data": {
      "text/plain": [
       "['923322070538', '923322071362']"
      ]
     },
     "execution_count": 3,
     "metadata": {},
     "output_type": "execute_result"
    }
   ],
   "source": [
    "var = [i.get_info(rs.camera_info.serial_number) for i in devices]\n",
    "var"
   ]
  },
  {
   "cell_type": "code",
   "execution_count": 4,
   "metadata": {},
   "outputs": [
    {
     "data": {
      "text/plain": [
       "1.0"
      ]
     },
     "execution_count": 4,
     "metadata": {},
     "output_type": "execute_result"
    }
   ],
   "source": [
    "dev = devices[0].first_depth_sensor()\n",
    "dev.set_option(rs.option.inter_cam_sync_mode,1)\n",
    "dev.get_option(rs.option.inter_cam_sync_mode)"
   ]
  },
  {
   "cell_type": "code",
   "execution_count": 5,
   "metadata": {},
   "outputs": [
    {
     "data": {
      "text/plain": [
       "2.0"
      ]
     },
     "execution_count": 5,
     "metadata": {},
     "output_type": "execute_result"
    }
   ],
   "source": [
    "dev2 = devices[1].first_depth_sensor()\n",
    "dev2.set_option(rs.option.inter_cam_sync_mode,2)\n",
    "dev2.get_option(rs.option.inter_cam_sync_mode)"
   ]
  },
  {
   "cell_type": "code",
   "execution_count": 6,
   "metadata": {},
   "outputs": [
    {
     "name": "stdout",
     "output_type": "stream",
     "text": [
      "cam1 enabled\n",
      "cam2 enabled\n"
     ]
    }
   ],
   "source": [
    "#cam1: configure depth and color streams\n",
    "pipeline1 = rs.pipeline()\n",
    "config1 = rs.config()\n",
    "config1.enable_device(var[0])\n",
    "config1.enable_stream(rs.stream.depth, 848, 480, rs.format.z16, 90)\n",
    "config1.enable_stream(rs.stream.color, 640, 480, rs.format.bgr8, 60)\n",
    "print('cam1 enabled')\n",
    "\n",
    "#cam2: configure depth and color streams \n",
    "pipeline2 = rs.pipeline()\n",
    "config2 = rs.config()\n",
    "config2.enable_device(var[1])\n",
    "config2.enable_stream(rs.stream.depth, 848, 480, rs.format.z16, 90)\n",
    "config2.enable_stream(rs.stream.color, 640, 480, rs.format.bgr8, 60)\n",
    "print('cam2 enabled')"
   ]
  },
  {
   "cell_type": "code",
   "execution_count": 35,
   "metadata": {
    "scrolled": true
   },
   "outputs": [],
   "source": [
    "#set camera to master\n",
    "#pipe = rs.pipeline()\n",
    "#prof = pipe.start()\n",
    "#dev = prof.get_device()\n",
    "#ds = dev.query_sensors()[0]\n",
    "#ds.set_option(rs.option.inter_cam_sync_mode,1)\n",
    "#ds.get_option(rs.option.inter_cam_sync_mode)"
   ]
  },
  {
   "cell_type": "code",
   "execution_count": 7,
   "metadata": {},
   "outputs": [
    {
     "name": "stdout",
     "output_type": "stream",
     "text": [
      "cams configued\n"
     ]
    }
   ],
   "source": [
    "pipeline1.start(config1)\n",
    "pipeline2.start(config2)\n",
    "print('cams configued')"
   ]
  },
  {
   "cell_type": "code",
   "execution_count": 8,
   "metadata": {},
   "outputs": [
    {
     "name": "stdout",
     "output_type": "stream",
     "text": [
      "[<pyrealsense2.pyrealsense2.depth_frame object at 0x7f5c71294470>, <pyrealsense2.pyrealsense2.depth_frame object at 0x7f5c712942f0>]\n",
      "[<pyrealsense2.pyrealsense2.depth_frame object at 0x7f5c71294430>, <pyrealsense2.pyrealsense2.depth_frame object at 0x7f5c712830b0>]\n",
      "[<pyrealsense2.pyrealsense2.depth_frame object at 0x7f5c71283df0>, <pyrealsense2.pyrealsense2.depth_frame object at 0x7f5c71294530>]\n",
      "[<pyrealsense2.pyrealsense2.depth_frame object at 0x7f5c712947f0>, <pyrealsense2.pyrealsense2.depth_frame object at 0x7f5c712944f0>]\n",
      "[<pyrealsense2.pyrealsense2.depth_frame object at 0x7f5c732fdd30>, <pyrealsense2.pyrealsense2.depth_frame object at 0x7f5c712945f0>]\n",
      "[<pyrealsense2.pyrealsense2.depth_frame object at 0x7f5c712830b0>, <pyrealsense2.pyrealsense2.depth_frame object at 0x7f5c71283df0>]\n",
      "[<pyrealsense2.pyrealsense2.depth_frame object at 0x7f5c712948b0>, <pyrealsense2.pyrealsense2.depth_frame object at 0x7f5c712942f0>]\n",
      "[<pyrealsense2.pyrealsense2.depth_frame object at 0x7f5c71294870>, <pyrealsense2.pyrealsense2.depth_frame object at 0x7f5c732fdd30>]\n",
      "[<pyrealsense2.pyrealsense2.depth_frame object at 0x7f5c712947b0>, <pyrealsense2.pyrealsense2.depth_frame object at 0x7f5c712830b0>]\n",
      "[<pyrealsense2.pyrealsense2.depth_frame object at 0x7f5c71283df0>, <pyrealsense2.pyrealsense2.depth_frame object at 0x7f5c712945b0>]\n",
      "[<pyrealsense2.pyrealsense2.depth_frame object at 0x7f5c712947f0>, <pyrealsense2.pyrealsense2.depth_frame object at 0x7f5c712945f0>]\n",
      "[<pyrealsense2.pyrealsense2.depth_frame object at 0x7f5c732fdd30>, <pyrealsense2.pyrealsense2.depth_frame object at 0x7f5c712948b0>]\n",
      "[<pyrealsense2.pyrealsense2.depth_frame object at 0x7f5c712830b0>, <pyrealsense2.pyrealsense2.depth_frame object at 0x7f5c71283df0>]\n",
      "[<pyrealsense2.pyrealsense2.depth_frame object at 0x7f5c712947b0>, <pyrealsense2.pyrealsense2.depth_frame object at 0x7f5c712944b0>]\n",
      "[<pyrealsense2.pyrealsense2.depth_frame object at 0x7f5c71294470>, <pyrealsense2.pyrealsense2.depth_frame object at 0x7f5c732fdd30>]\n",
      "[<pyrealsense2.pyrealsense2.depth_frame object at 0x7f5c71283df0>, <pyrealsense2.pyrealsense2.depth_frame object at 0x7f5c71294870>]\n",
      "[<pyrealsense2.pyrealsense2.depth_frame object at 0x7f5c712830b0>, <pyrealsense2.pyrealsense2.depth_frame object at 0x7f5c712948b0>]\n",
      "[<pyrealsense2.pyrealsense2.depth_frame object at 0x7f5c712945f0>, <pyrealsense2.pyrealsense2.depth_frame object at 0x7f5c71294770>]\n",
      "[<pyrealsense2.pyrealsense2.depth_frame object at 0x7f5c732fdd30>, <pyrealsense2.pyrealsense2.depth_frame object at 0x7f5c71283df0>]\n",
      "[<pyrealsense2.pyrealsense2.depth_frame object at 0x7f5c71294470>, <pyrealsense2.pyrealsense2.depth_frame object at 0x7f5c712830b0>]\n",
      "[<pyrealsense2.pyrealsense2.depth_frame object at 0x7f5c712944b0>, <pyrealsense2.pyrealsense2.depth_frame object at 0x7f5c712946b0>]\n",
      "[<pyrealsense2.pyrealsense2.depth_frame object at 0x7f5c712946f0>, <pyrealsense2.pyrealsense2.depth_frame object at 0x7f5c732fdd30>]\n",
      "[<pyrealsense2.pyrealsense2.depth_frame object at 0x7f5c71283df0>, <pyrealsense2.pyrealsense2.depth_frame object at 0x7f5c71294870>]\n",
      "[<pyrealsense2.pyrealsense2.depth_frame object at 0x7f5c712830b0>, <pyrealsense2.pyrealsense2.depth_frame object at 0x7f5c71294630>]\n",
      "[<pyrealsense2.pyrealsense2.depth_frame object at 0x7f5c71294470>, <pyrealsense2.pyrealsense2.depth_frame object at 0x7f5c712947f0>]\n",
      "[<pyrealsense2.pyrealsense2.depth_frame object at 0x7f5c732fdd30>, <pyrealsense2.pyrealsense2.depth_frame object at 0x7f5c71283df0>]\n",
      "[<pyrealsense2.pyrealsense2.depth_frame object at 0x7f5c712947b0>, <pyrealsense2.pyrealsense2.depth_frame object at 0x7f5c712830b0>]\n",
      "[<pyrealsense2.pyrealsense2.depth_frame object at 0x7f5c71294730>, <pyrealsense2.pyrealsense2.depth_frame object at 0x7f5c71294570>]\n",
      "[<pyrealsense2.pyrealsense2.depth_frame object at 0x7f5c71294530>, <pyrealsense2.pyrealsense2.depth_frame object at 0x7f5c732fdd30>]\n",
      "[<pyrealsense2.pyrealsense2.depth_frame object at 0x7f5c71283df0>, <pyrealsense2.pyrealsense2.depth_frame object at 0x7f5c712945b0>]\n",
      "[<pyrealsense2.pyrealsense2.depth_frame object at 0x7f5c712830b0>, <pyrealsense2.pyrealsense2.depth_frame object at 0x7f5c71294870>]\n",
      "[<pyrealsense2.pyrealsense2.depth_frame object at 0x7f5c712946b0>, <pyrealsense2.pyrealsense2.depth_frame object at 0x7f5c712947f0>]\n",
      "[<pyrealsense2.pyrealsense2.depth_frame object at 0x7f5c732fdd30>, <pyrealsense2.pyrealsense2.depth_frame object at 0x7f5c71283df0>]\n",
      "[<pyrealsense2.pyrealsense2.depth_frame object at 0x7f5c71294530>, <pyrealsense2.pyrealsense2.depth_frame object at 0x7f5c712830b0>]\n",
      "[<pyrealsense2.pyrealsense2.depth_frame object at 0x7f5c71294570>, <pyrealsense2.pyrealsense2.depth_frame object at 0x7f5c71294630>]\n",
      "[<pyrealsense2.pyrealsense2.depth_frame object at 0x7f5c71294430>, <pyrealsense2.pyrealsense2.depth_frame object at 0x7f5c732fdd30>]\n",
      "[<pyrealsense2.pyrealsense2.depth_frame object at 0x7f5c71283df0>, <pyrealsense2.pyrealsense2.depth_frame object at 0x7f5c71294730>]\n",
      "[<pyrealsense2.pyrealsense2.depth_frame object at 0x7f5c712830b0>, <pyrealsense2.pyrealsense2.depth_frame object at 0x7f5c712945b0>]\n",
      "[<pyrealsense2.pyrealsense2.depth_frame object at 0x7f5c71294570>, <pyrealsense2.pyrealsense2.depth_frame object at 0x7f5c71294830>]\n",
      "[<pyrealsense2.pyrealsense2.depth_frame object at 0x7f5c732fdd30>, <pyrealsense2.pyrealsense2.depth_frame object at 0x7f5c71283df0>]\n",
      "[<pyrealsense2.pyrealsense2.depth_frame object at 0x7f5c712944b0>, <pyrealsense2.pyrealsense2.depth_frame object at 0x7f5c712830b0>]\n",
      "[<pyrealsense2.pyrealsense2.depth_frame object at 0x7f5c71294470>, <pyrealsense2.pyrealsense2.depth_frame object at 0x7f5c71294630>]\n",
      "[<pyrealsense2.pyrealsense2.depth_frame object at 0x7f5c712946f0>, <pyrealsense2.pyrealsense2.depth_frame object at 0x7f5c732fdd30>]\n",
      "[<pyrealsense2.pyrealsense2.depth_frame object at 0x7f5c71283df0>, <pyrealsense2.pyrealsense2.depth_frame object at 0x7f5c71294430>]\n",
      "[<pyrealsense2.pyrealsense2.depth_frame object at 0x7f5c712830b0>, <pyrealsense2.pyrealsense2.depth_frame object at 0x7f5c71294570>]\n",
      "[<pyrealsense2.pyrealsense2.depth_frame object at 0x7f5c71294730>, <pyrealsense2.pyrealsense2.depth_frame object at 0x7f5c712948f0>]\n",
      "[<pyrealsense2.pyrealsense2.depth_frame object at 0x7f5c732fdd30>, <pyrealsense2.pyrealsense2.depth_frame object at 0x7f5c71283df0>]\n",
      "[<pyrealsense2.pyrealsense2.depth_frame object at 0x7f5c71294670>, <pyrealsense2.pyrealsense2.depth_frame object at 0x7f5c712830b0>]\n",
      "[<pyrealsense2.pyrealsense2.depth_frame object at 0x7f5c712946b0>, <pyrealsense2.pyrealsense2.depth_frame object at 0x7f5c712944f0>]\n",
      "[<pyrealsense2.pyrealsense2.depth_frame object at 0x7f5c712948b0>, <pyrealsense2.pyrealsense2.depth_frame object at 0x7f5c732fdd30>]\n",
      "[<pyrealsense2.pyrealsense2.depth_frame object at 0x7f5c71283df0>, <pyrealsense2.pyrealsense2.depth_frame object at 0x7f5c71294470>]\n",
      "[<pyrealsense2.pyrealsense2.depth_frame object at 0x7f5c712830b0>, <pyrealsense2.pyrealsense2.depth_frame object at 0x7f5c712944f0>]\n",
      "[<pyrealsense2.pyrealsense2.depth_frame object at 0x7f5c712945b0>, <pyrealsense2.pyrealsense2.depth_frame object at 0x7f5c71294730>]\n",
      "[<pyrealsense2.pyrealsense2.depth_frame object at 0x7f5c732fdd30>, <pyrealsense2.pyrealsense2.depth_frame object at 0x7f5c71283df0>]\n",
      "[<pyrealsense2.pyrealsense2.depth_frame object at 0x7f5c712947f0>, <pyrealsense2.pyrealsense2.depth_frame object at 0x7f5c712948b0>]\n",
      "[<pyrealsense2.pyrealsense2.depth_frame object at 0x7f5c712830b0>, <pyrealsense2.pyrealsense2.depth_frame object at 0x7f5c71294470>]\n",
      "[<pyrealsense2.pyrealsense2.depth_frame object at 0x7f5c712946b0>, <pyrealsense2.pyrealsense2.depth_frame object at 0x7f5c732fdd30>]\n",
      "[<pyrealsense2.pyrealsense2.depth_frame object at 0x7f5c71283df0>, <pyrealsense2.pyrealsense2.depth_frame object at 0x7f5c712944f0>]\n",
      "[<pyrealsense2.pyrealsense2.depth_frame object at 0x7f5c712947f0>, <pyrealsense2.pyrealsense2.depth_frame object at 0x7f5c712830b0>]\n",
      "[<pyrealsense2.pyrealsense2.depth_frame object at 0x7f5c712945b0>, <pyrealsense2.pyrealsense2.depth_frame object at 0x7f5c71294530>]\n",
      "[<pyrealsense2.pyrealsense2.depth_frame object at 0x7f5c732fdd30>, <pyrealsense2.pyrealsense2.depth_frame object at 0x7f5c71283df0>]\n",
      "[<pyrealsense2.pyrealsense2.depth_frame object at 0x7f5c712945f0>, <pyrealsense2.pyrealsense2.depth_frame object at 0x7f5c712948f0>]\n"
     ]
    },
    {
     "name": "stdout",
     "output_type": "stream",
     "text": [
      "[<pyrealsense2.pyrealsense2.depth_frame object at 0x7f5c712830b0>, <pyrealsense2.pyrealsense2.depth_frame object at 0x7f5c71294630>]\n",
      "[<pyrealsense2.pyrealsense2.depth_frame object at 0x7f5c712944b0>, <pyrealsense2.pyrealsense2.depth_frame object at 0x7f5c732fdd30>]\n",
      "[<pyrealsense2.pyrealsense2.depth_frame object at 0x7f5c71283df0>, <pyrealsense2.pyrealsense2.depth_frame object at 0x7f5c712945b0>]\n",
      "[<pyrealsense2.pyrealsense2.depth_frame object at 0x7f5c71294670>, <pyrealsense2.pyrealsense2.depth_frame object at 0x7f5c712830b0>]\n",
      "[<pyrealsense2.pyrealsense2.depth_frame object at 0x7f5c71294870>, <pyrealsense2.pyrealsense2.depth_frame object at 0x7f5c712946b0>]\n",
      "[<pyrealsense2.pyrealsense2.depth_frame object at 0x7f5c732fdd30>, <pyrealsense2.pyrealsense2.depth_frame object at 0x7f5c71283df0>]\n",
      "[<pyrealsense2.pyrealsense2.depth_frame object at 0x7f5c712946f0>, <pyrealsense2.pyrealsense2.depth_frame object at 0x7f5c712944f0>]\n",
      "[<pyrealsense2.pyrealsense2.depth_frame object at 0x7f5c712830b0>, <pyrealsense2.pyrealsense2.depth_frame object at 0x7f5c71294770>]\n",
      "[<pyrealsense2.pyrealsense2.depth_frame object at 0x7f5c712948b0>, <pyrealsense2.pyrealsense2.depth_frame object at 0x7f5c732fdd30>]\n",
      "[<pyrealsense2.pyrealsense2.depth_frame object at 0x7f5c71283df0>, <pyrealsense2.pyrealsense2.depth_frame object at 0x7f5c712948f0>]\n",
      "[<pyrealsense2.pyrealsense2.depth_frame object at 0x7f5c71294630>, <pyrealsense2.pyrealsense2.depth_frame object at 0x7f5c712830b0>]\n",
      "[<pyrealsense2.pyrealsense2.depth_frame object at 0x7f5c712945f0>, <pyrealsense2.pyrealsense2.depth_frame object at 0x7f5c71294470>]\n",
      "[<pyrealsense2.pyrealsense2.depth_frame object at 0x7f5c732fdd30>, <pyrealsense2.pyrealsense2.depth_frame object at 0x7f5c71283df0>]\n",
      "[<pyrealsense2.pyrealsense2.depth_frame object at 0x7f5c71294630>, <pyrealsense2.pyrealsense2.depth_frame object at 0x7f5c712948b0>]\n",
      "[<pyrealsense2.pyrealsense2.depth_frame object at 0x7f5c712830b0>, <pyrealsense2.pyrealsense2.depth_frame object at 0x7f5c712946f0>]\n",
      "[<pyrealsense2.pyrealsense2.depth_frame object at 0x7f5c712945f0>, <pyrealsense2.pyrealsense2.depth_frame object at 0x7f5c732fdd30>]\n",
      "[<pyrealsense2.pyrealsense2.depth_frame object at 0x7f5c71283df0>, <pyrealsense2.pyrealsense2.depth_frame object at 0x7f5c71294830>]\n",
      "[<pyrealsense2.pyrealsense2.depth_frame object at 0x7f5c712945b0>, <pyrealsense2.pyrealsense2.depth_frame object at 0x7f5c712830b0>]\n",
      "[<pyrealsense2.pyrealsense2.depth_frame object at 0x7f5c71294570>, <pyrealsense2.pyrealsense2.depth_frame object at 0x7f5c712948f0>]\n",
      "[<pyrealsense2.pyrealsense2.depth_frame object at 0x7f5c732fdd30>, <pyrealsense2.pyrealsense2.depth_frame object at 0x7f5c71283df0>]\n",
      "[<pyrealsense2.pyrealsense2.depth_frame object at 0x7f5c71294670>, <pyrealsense2.pyrealsense2.depth_frame object at 0x7f5c71294770>]\n",
      "[<pyrealsense2.pyrealsense2.depth_frame object at 0x7f5c712830b0>, <pyrealsense2.pyrealsense2.depth_frame object at 0x7f5c712944b0>]\n",
      "[<pyrealsense2.pyrealsense2.depth_frame object at 0x7f5c712947f0>, <pyrealsense2.pyrealsense2.depth_frame object at 0x7f5c732fdd30>]\n",
      "[<pyrealsense2.pyrealsense2.depth_frame object at 0x7f5c71283df0>, <pyrealsense2.pyrealsense2.depth_frame object at 0x7f5c712948b0>]\n",
      "[<pyrealsense2.pyrealsense2.depth_frame object at 0x7f5c71294630>, <pyrealsense2.pyrealsense2.depth_frame object at 0x7f5c712830b0>]\n",
      "[<pyrealsense2.pyrealsense2.depth_frame object at 0x7f5c71294430>, <pyrealsense2.pyrealsense2.depth_frame object at 0x7f5c712944f0>]\n",
      "[<pyrealsense2.pyrealsense2.depth_frame object at 0x7f5c732fdd30>, <pyrealsense2.pyrealsense2.depth_frame object at 0x7f5c71283df0>]\n",
      "[<pyrealsense2.pyrealsense2.depth_frame object at 0x7f5c712946b0>, <pyrealsense2.pyrealsense2.depth_frame object at 0x7f5c71294830>]\n",
      "[<pyrealsense2.pyrealsense2.depth_frame object at 0x7f5c712830b0>, <pyrealsense2.pyrealsense2.depth_frame object at 0x7f5c712946f0>]\n",
      "[<pyrealsense2.pyrealsense2.depth_frame object at 0x7f5c71294930>, <pyrealsense2.pyrealsense2.depth_frame object at 0x7f5c732fdd30>]\n",
      "[<pyrealsense2.pyrealsense2.depth_frame object at 0x7f5c71283df0>, <pyrealsense2.pyrealsense2.depth_frame object at 0x7f5c71294630>]\n",
      "[<pyrealsense2.pyrealsense2.depth_frame object at 0x7f5c712945f0>, <pyrealsense2.pyrealsense2.depth_frame object at 0x7f5c712830b0>]\n",
      "[<pyrealsense2.pyrealsense2.depth_frame object at 0x7f5c712947b0>, <pyrealsense2.pyrealsense2.depth_frame object at 0x7f5c712942f0>]\n",
      "[<pyrealsense2.pyrealsense2.depth_frame object at 0x7f5c732fdd30>, <pyrealsense2.pyrealsense2.depth_frame object at 0x7f5c71283df0>]\n",
      "[<pyrealsense2.pyrealsense2.depth_frame object at 0x7f5c71294930>, <pyrealsense2.pyrealsense2.depth_frame object at 0x7f5c71294570>]\n",
      "[<pyrealsense2.pyrealsense2.depth_frame object at 0x7f5c712830b0>, <pyrealsense2.pyrealsense2.depth_frame object at 0x7f5c71294630>]\n",
      "[<pyrealsense2.pyrealsense2.depth_frame object at 0x7f5c712945f0>, <pyrealsense2.pyrealsense2.depth_frame object at 0x7f5c732fdd30>]\n",
      "[<pyrealsense2.pyrealsense2.depth_frame object at 0x7f5c71283df0>, <pyrealsense2.pyrealsense2.depth_frame object at 0x7f5c71294770>]\n"
     ]
    }
   ],
   "source": [
    "try:\n",
    "    start = time.time()\n",
    "    while time.time() - start <10:\n",
    "        \n",
    "        #camera 1\n",
    "        frames1 = pipeline1.wait_for_frames()\n",
    "        depthframe1 = frames1.get_depth_frame()\n",
    "        colframe1 = frames1.get_color_frame()\n",
    "        if not depthframe1 or not colframe1:\n",
    "            continue\n",
    "\n",
    "        #convert images to numpy arrays\n",
    "        depthim1 = np.asanyarray(depthframe1.get_data())\n",
    "        colim1 = np.asanyarray(colframe1.get_data())\n",
    "        \n",
    "        #apply color map on depth image, convert to 8bit pixel\n",
    "        depthcolmap1 = cv2.applyColorMap(cv2.convertScaleAbs(depthim1, alpha=0.5), cv2.COLORMAP_JET)\n",
    "        \n",
    "        #camera 2\n",
    "        frames2 = pipeline2.wait_for_frames()\n",
    "        depthframe2 = frames2.get_depth_frame()\n",
    "        colframe2 = frames2.get_color_frame()\n",
    "        if not depthframe2 or not colframe2:\n",
    "            continue\n",
    "\n",
    "            \n",
    "        #check time sync\n",
    "        print([depthframe1, depthframe2]) #returns system_time\n",
    "        #counter = rs.frame.get_frame_metadata(depthframe1, rs.frame_metadata_value.frame_counter)\n",
    "        #counter2 = rs.frame.get_frame_metadata(depthframe2, rs.frame_metadata_value.frame_counter)\n",
    "        #print([counter,counter2])\n",
    "        #convert images to numpy arrays\n",
    "        depthim2 = np.asanyarray(depthframe2.get_data())\n",
    "        colim2 = np.asanyarray(colframe2.get_data())\n",
    "        \n",
    "        #apply color map on depth image, convert to 8bit pixel\n",
    "        depthcolmap2 = cv2.applyColorMap(cv2.convertScaleAbs(depthim2, alpha=0.5), cv2.COLORMAP_JET)\n",
    "        \n",
    "        \n",
    "        #stack all images horizontally\n",
    "        images = np.hstack((colim1, depthcolmap1, colim2, depthcolmap2))\n",
    "        \n",
    "        #show images from cameras\n",
    "        cv2.namedWindow('RealSense', cv2.WINDOW_NORMAL)\n",
    "        cv2.imshow('RealSense', images)\n",
    "        cv2.waitKey(1)\n",
    "    \n",
    "finally:\n",
    "    #stop streaming\n",
    "    pipeline1.stop()\n",
    "    pipeline2.stop()\n",
    "    cv2.destroyAllWindows()\n",
    "    del pipeline1\n",
    "    del config1\n",
    "    del pipeline2\n",
    "    del config2"
   ]
  },
  {
   "cell_type": "code",
   "execution_count": 50,
   "metadata": {},
   "outputs": [
    {
     "ename": "NameError",
     "evalue": "name 'config1' is not defined",
     "output_type": "error",
     "traceback": [
      "\u001b[0;31m---------------------------------------------------------------------------\u001b[0m",
      "\u001b[0;31mNameError\u001b[0m                                 Traceback (most recent call last)",
      "\u001b[0;32m<ipython-input-50-9e6fc742126e>\u001b[0m in \u001b[0;36m<module>\u001b[0;34m\u001b[0m\n\u001b[0;32m----> 1\u001b[0;31m \u001b[0;32mdel\u001b[0m \u001b[0mconfig1\u001b[0m\u001b[0;34m\u001b[0m\u001b[0;34m\u001b[0m\u001b[0m\n\u001b[0m",
      "\u001b[0;31mNameError\u001b[0m: name 'config1' is not defined"
     ]
    }
   ],
   "source": []
  },
  {
   "cell_type": "code",
   "execution_count": null,
   "metadata": {},
   "outputs": [],
   "source": []
  }
 ],
 "metadata": {
  "kernelspec": {
   "display_name": "Python 3",
   "language": "python",
   "name": "python3"
  },
  "language_info": {
   "codemirror_mode": {
    "name": "ipython",
    "version": 3
   },
   "file_extension": ".py",
   "mimetype": "text/x-python",
   "name": "python",
   "nbconvert_exporter": "python",
   "pygments_lexer": "ipython3",
   "version": "3.7.4"
  }
 },
 "nbformat": 4,
 "nbformat_minor": 2
}
