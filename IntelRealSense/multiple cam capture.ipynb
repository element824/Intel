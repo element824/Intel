{
 "cells": [
  {
   "cell_type": "code",
   "execution_count": 1,
   "metadata": {},
   "outputs": [],
   "source": [
    "import pyrealsense2 as rs\n",
    "import matplotlib as plt\n",
    "import cv2\n",
    "import logging\n",
    "import numpy as np\n",
    "import time"
   ]
  },
  {
   "cell_type": "code",
   "execution_count": 2,
   "metadata": {},
   "outputs": [],
   "source": [
    "ctx = rs.context()\n",
    "devices = ctx.query_devices()"
   ]
  },
  {
   "cell_type": "code",
   "execution_count": 3,
   "metadata": {},
   "outputs": [
    {
     "data": {
      "text/plain": [
       "<pyrealsense2.pyrealsense2.device_list at 0x7ff2cd8ecb30>"
      ]
     },
     "execution_count": 3,
     "metadata": {},
     "output_type": "execute_result"
    }
   ],
   "source": [
    "devices"
   ]
  },
  {
   "cell_type": "code",
   "execution_count": 4,
   "metadata": {},
   "outputs": [],
   "source": [
    "var = [i.get_info(rs.camera_info.serial_number) for i in devices]"
   ]
  },
  {
   "cell_type": "code",
   "execution_count": 5,
   "metadata": {
    "scrolled": true
   },
   "outputs": [
    {
     "data": {
      "text/plain": [
       "['923322071362', '923322070538']"
      ]
     },
     "execution_count": 5,
     "metadata": {},
     "output_type": "execute_result"
    }
   ],
   "source": [
    "var"
   ]
  },
  {
   "cell_type": "code",
   "execution_count": 10,
   "metadata": {},
   "outputs": [
    {
     "name": "stdout",
     "output_type": "stream",
     "text": [
      "cam1 enabled\n"
     ]
    }
   ],
   "source": [
    "#cam1: configure depth and color streams \n",
    "pipeline1 = rs.pipeline()\n",
    "config1 = rs.config()\n",
    "config1.enable_device(var[0])\n",
    "config1.enable_stream(rs.stream.depth, 848, 480, rs.format.z16, 90)\n",
    "config1.enable_stream(rs.stream.color, 640, 480, rs.format.bgr8, 60)\n",
    "config1.enable_record_to_file('multicam1.bag')\n",
    "print('cam1 enabled')"
   ]
  },
  {
   "cell_type": "code",
   "execution_count": 11,
   "metadata": {},
   "outputs": [
    {
     "name": "stdout",
     "output_type": "stream",
     "text": [
      "cam2 enabled\n"
     ]
    }
   ],
   "source": [
    "#cam1: configure depth and color streams \n",
    "pipeline2 = rs.pipeline()\n",
    "config2 = rs.config()\n",
    "config2.enable_device(var[1])\n",
    "config2.enable_stream(rs.stream.depth, 848, 480, rs.format.z16, 90)\n",
    "config2.enable_stream(rs.stream.color, 640, 480, rs.format.bgr8, 60)\n",
    "config2.enable_record_to_file('multicam2.bag')\n",
    "print('cam2 enabled')"
   ]
  },
  {
   "cell_type": "code",
   "execution_count": 12,
   "metadata": {},
   "outputs": [
    {
     "name": "stdout",
     "output_type": "stream",
     "text": [
      "cams configured\n"
     ]
    }
   ],
   "source": [
    "#start stream\n",
    "pipeline1.start(config1)\n",
    "pipeline2.start(config2)\n",
    "print('cams configured')"
   ]
  },
  {
   "cell_type": "code",
   "execution_count": 13,
   "metadata": {},
   "outputs": [],
   "source": [
    "try:\n",
    "    start = time.time()\n",
    "    while time.time() - start <10:\n",
    "        \n",
    "        #camera 1\n",
    "        frames1 = pipeline1.wait_for_frames()\n",
    "        depthframe1 = frames1.get_depth_frame()\n",
    "        colframe1 = frames1.get_color_frame()\n",
    "        if not depthframe1 or not colframe1:\n",
    "            continue\n",
    "\n",
    "        #convert images to numpy arrays\n",
    "        depthim1 = np.asanyarray(depthframe1.get_data())\n",
    "        colim1 = np.asanyarray(colframe1.get_data())\n",
    "        \n",
    "        #apply color map on depth image, convert to 8bit pixel\n",
    "        depthcolmap1 = cv2.applyColorMap(cv2.convertScaleAbs(depthim1, alpha=0.5), cv2.COLORMAP_JET)\n",
    "        \n",
    "        #camera 2\n",
    "        frames2 = pipeline2.wait_for_frames()\n",
    "        depthframe2 = frames2.get_depth_frame()\n",
    "        colframe2 = frames2.get_color_frame()\n",
    "        if not depthframe2 or not colframe2:\n",
    "            continue\n",
    "\n",
    "        #convert images to numpy arrays\n",
    "        depthim2 = np.asanyarray(depthframe2.get_data())\n",
    "        colim2 = np.asanyarray(colframe2.get_data())\n",
    "        \n",
    "        #apply color map on depth image, convert to 8bit pixel\n",
    "        depthcolmap2 = cv2.applyColorMap(cv2.convertScaleAbs(depthim2, alpha=0.5), cv2.COLORMAP_JET)\n",
    "        \n",
    "        \n",
    "        #stack all images horizontally\n",
    "        images = np.hstack((colim1, depthcolmap1, colim2, depthcolmap2))\n",
    "        \n",
    "        #show images from cameras\n",
    "        cv2.namedWindow('RealSense', cv2.WINDOW_NORMAL)\n",
    "        cv2.imshow('RealSense', images)\n",
    "        cv2.waitKey(1)\n",
    "    \n",
    "finally:\n",
    "    #stop streaming\n",
    "    pipeline1.stop()\n",
    "    pipeline2.stop()\n",
    "    cv2.destroyAllWindows()\n",
    "    del pipeline1\n",
    "    del config1\n",
    "    del pipeline2\n",
    "    del config2"
   ]
  },
  {
   "cell_type": "code",
   "execution_count": null,
   "metadata": {},
   "outputs": [],
   "source": []
  }
 ],
 "metadata": {
  "kernelspec": {
   "display_name": "Python 3",
   "language": "python",
   "name": "python3"
  },
  "language_info": {
   "codemirror_mode": {
    "name": "ipython",
    "version": 3
   },
   "file_extension": ".py",
   "mimetype": "text/x-python",
   "name": "python",
   "nbconvert_exporter": "python",
   "pygments_lexer": "ipython3",
   "version": "3.7.4"
  }
 },
 "nbformat": 4,
 "nbformat_minor": 2
}
