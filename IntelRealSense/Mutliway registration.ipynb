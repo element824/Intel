{
 "cells": [
  {
   "cell_type": "code",
   "execution_count": 18,
   "metadata": {},
   "outputs": [],
   "source": [
    "import open3d as o3d\n",
    "import numpy as np\n",
    "from pyntcloud import PyntCloud"
   ]
  },
  {
   "cell_type": "code",
   "execution_count": 53,
   "metadata": {},
   "outputs": [],
   "source": [
    "def load_point_clouds(voxel_size=0.0):\n",
    "    pcds = []\n",
    "    voxel_size = 0.02\n",
    "    max_correspondence_distance_coarse = voxel_size*15\n",
    "    max_correspondence_distance_fine = voxel_size*1.5\n",
    "    pcd = o3d.io.read_point_cloud(\"airplane.ply\" )\n",
    "    pcd2 = o3d.io.read_point_cloud(\"top3.ply\" )\n",
    "    #pcd_down = pcd.voxel_down_sample(voxel_size=voxel_size)\n",
    "    #pcd_down2 = pcd2.voxel_down_sample(voxel_size=voxel_size)\n",
    "    pcd_down = o3d.geometry.voxel_down_sample(pcd, voxel_size = voxel_size)\n",
    "    pcd_down2 = o3d.geometry.voxel_down_sample(pcd2, voxel_size = voxel_size)\n",
    "    pcds.append(pcd_down)\n",
    "    pcds.append(pcd_down2)\n",
    "    \n",
    "    #for i in range(3):\n",
    "        #pcd = o3d.io.read_point_cloud(\"../../TestData/ICP/cloud_bin_%d.pcd\" % i)\n",
    "        #pcd_down = pcd.voxel_down_sample(voxel_size=voxel_size)\n",
    "        #pcds.append(pcd_down)\n",
    "    return pcds"
   ]
  },
  {
   "cell_type": "code",
   "execution_count": 54,
   "metadata": {},
   "outputs": [],
   "source": [
    "pcds = []\n",
    "voxel_size = 0.02\n",
    "max_correspondence_distance_coarse = voxel_size*15\n",
    "max_correspondence_distance_fine = voxel_size*1.5\n",
    "pcd = o3d.io.read_point_cloud(\"top2.ply\" )\n",
    "pcd2 = o3d.io.read_point_cloud(\"top3.ply\" )\n",
    "#pcd_down = pcd.voxel_down_sample(voxel_size=voxel_size)\n",
    "pcd_down = o3d.geometry.voxel_down_sample(pcd, voxel_size = voxel_size)\n",
    "#pcd_down2 = pcd2.voxel_down_sample(voxel_size=voxel_size)\n",
    "pcd_down2 = o3d.geometry.voxel_down_sample(pcd2, voxel_size = voxel_size)\n",
    "pcds.append(pcd_down)\n",
    "pcds.append(pcd_down2)"
   ]
  },
  {
   "cell_type": "code",
   "execution_count": 64,
   "metadata": {},
   "outputs": [],
   "source": [
    "pcd = o3d.io.read_point_cloud(\"../../TestData/fragment.ply\")\n",
    "o3d.visualization.draw_geometries([pcd])"
   ]
  },
  {
   "cell_type": "code",
   "execution_count": 38,
   "metadata": {},
   "outputs": [
    {
     "name": "stdout",
     "output_type": "stream",
     "text": [
      "geometry::PointCloud with 0 points.\n",
      "PyntCloud\n",
      "1335 points with 0 scalar fields\n",
      "2452 faces in mesh\n",
      "0 kdtrees\n",
      "0 voxelgrids\n",
      "Centroid: 896.99365234375, 727.075927734375, 83.09244537353516\n",
      "Other attributes:\n",
      "\n"
     ]
    },
    {
     "data": {
      "image/png": "[encoded data removed]",
      "text/plain": [
       "<Figure size 720x720 with 1 Axes>"
      ]
     },
     "metadata": {
      "needs_background": "light"
     },
     "output_type": "display_data"
    }
   ],
   "source": [
    "human_face = PyntCloud.from_file(\n",
    "    \"/home/alissa/IntelRealSense/bunny/data/top2.ply\")\n",
    "#print(human_face)\n",
    "\n",
    "y = o3d.io.read_point_cloud(\"~/IntelRealSense/bunny/data/bun000.ply\")\n",
    "print(y)\n",
    "#o3d.visualization.draw_geometries([y])\n",
    "\n",
    "x = PyntCloud.from_file(\"airplane.ply\")\n",
    "print(x)\n",
    "x.plot()"
   ]
  },
  {
   "cell_type": "code",
   "execution_count": 55,
   "metadata": {},
   "outputs": [
    {
     "name": "stdout",
     "output_type": "stream",
     "text": [
      "Testing IO for images ...\n",
      "geometry::PointCloud with 83280 points.\n"
     ]
    }
   ],
   "source": [
    "print(\"Testing IO for images ...\")\n",
    "img = o3d.io.read_point_cloud(\"1.ply\")\n",
    "print(img)"
   ]
  },
  {
   "cell_type": "code",
   "execution_count": 56,
   "metadata": {},
   "outputs": [],
   "source": [
    "def pairwise_registration(source, target):\n",
    "    print(\"Apply point-to-plane ICP\")\n",
    "    icp_coarse = o3d.registration.registration_icp(\n",
    "        source, target, max_correspondence_distance_coarse, np.identity(4),\n",
    "        o3d.registration.TransformationEstimationPointToPlane())\n",
    "    icp_fine = o3d.registration.registration_icp(\n",
    "        source, target, max_correspondence_distance_fine,\n",
    "        icp_coarse.transformation,\n",
    "        o3d.registration.TransformationEstimationPointToPlane())\n",
    "    transformation_icp = icp_fine.transformation\n",
    "    information_icp = o3d.registration.get_information_matrix_from_point_clouds(\n",
    "        source, target, max_correspondence_distance_fine,\n",
    "        icp_fine.transformation)\n",
    "    return transformation_icp, information_icp"
   ]
  },
  {
   "cell_type": "code",
   "execution_count": 57,
   "metadata": {},
   "outputs": [],
   "source": [
    "def full_registration(pcds, max_correspondence_distance_coarse,\n",
    "                      max_correspondence_distance_fine):\n",
    "    pose_graph = o3d.registration.PoseGraph()\n",
    "    odometry = np.identity(4)\n",
    "    pose_graph.nodes.append(o3d.registration.PoseGraphNode(odometry))\n",
    "    n_pcds = len(pcds)\n",
    "    for source_id in range(n_pcds):\n",
    "        for target_id in range(source_id + 1, n_pcds):\n",
    "            transformation_icp, information_icp = pairwise_registration(\n",
    "                pcds[source_id], pcds[target_id])\n",
    "            print(\"Build o3d.registration.PoseGraph\")\n",
    "            if target_id == source_id + 1:  # odometry case\n",
    "                odometry = np.dot(transformation_icp, odometry)\n",
    "                pose_graph.nodes.append(\n",
    "                    o3d.registration.PoseGraphNode(np.linalg.inv(odometry)))\n",
    "                pose_graph.edges.append(\n",
    "                    o3d.registration.PoseGraphEdge(source_id,\n",
    "                                                   target_id,\n",
    "                                                   transformation_icp,\n",
    "                                                   information_icp,\n",
    "                                                   uncertain=False))\n",
    "            else:  # loop closure case\n",
    "                pose_graph.edges.append(\n",
    "                    o3d.registration.PoseGraphEdge(source_id,\n",
    "                                                   target_id,\n",
    "                                                   transformation_icp,\n",
    "                                                   information_icp,\n",
    "                                                   uncertain=True))\n",
    "    return pose_graph\n",
    "\n"
   ]
  },
  {
   "cell_type": "code",
   "execution_count": 58,
   "metadata": {},
   "outputs": [],
   "source": [
    "o3d.utility.set_verbosity_level(o3d.utility.VerbosityLevel.Debug)\n",
    "pcds_down = load_point_clouds(voxel_size)\n",
    "o3d.visualization.draw_geometries(pcds_down)"
   ]
  },
  {
   "cell_type": "code",
   "execution_count": 59,
   "metadata": {},
   "outputs": [
    {
     "data": {
      "text/plain": [
       "[geometry::PointCloud with 1333 points., geometry::PointCloud with 0 points.]"
      ]
     },
     "execution_count": 59,
     "metadata": {},
     "output_type": "execute_result"
    }
   ],
   "source": [
    "pcds_down"
   ]
  },
  {
   "cell_type": "code",
   "execution_count": 60,
   "metadata": {
    "scrolled": true
   },
   "outputs": [
    {
     "name": "stdout",
     "output_type": "stream",
     "text": [
      "Full registration ...\n",
      "Apply point-to-plane ICP\n",
      "Build o3d.registration.PoseGraph\n"
     ]
    }
   ],
   "source": [
    "print(\"Full registration ...\")\n",
    "pose_graph = full_registration(pcds_down,                                \n",
    "                           max_correspondence_distance_coarse,                             \n",
    "                           max_correspondence_distance_fine)"
   ]
  },
  {
   "cell_type": "code",
   "execution_count": 61,
   "metadata": {},
   "outputs": [
    {
     "name": "stdout",
     "output_type": "stream",
     "text": [
      "Optimizing PoseGraph ...\n"
     ]
    }
   ],
   "source": [
    "print(\"Optimizing PoseGraph ...\")\n",
    "option = o3d.registration.GlobalOptimizationOption(\n",
    "    max_correspondence_distance=max_correspondence_distance_fine,\n",
    "    edge_prune_threshold=0.25,\n",
    "    reference_node=0)\n",
    "o3d.registration.global_optimization(\n",
    "    pose_graph, o3d.registration.GlobalOptimizationLevenbergMarquardt(),\n",
    "    o3d.registration.GlobalOptimizationConvergenceCriteria(), option)"
   ]
  },
  {
   "cell_type": "code",
   "execution_count": 62,
   "metadata": {},
   "outputs": [
    {
     "name": "stdout",
     "output_type": "stream",
     "text": [
      "Transform points and display\n",
      "[[1. 0. 0. 0.]\n",
      " [0. 1. 0. 0.]\n",
      " [0. 0. 1. 0.]\n",
      " [0. 0. 0. 1.]]\n",
      "[[1. 0. 0. 0.]\n",
      " [0. 1. 0. 0.]\n",
      " [0. 0. 1. 0.]\n",
      " [0. 0. 0. 1.]]\n"
     ]
    }
   ],
   "source": [
    "print(\"Transform points and display\")\n",
    "for point_id in range(len(pcds_down)):\n",
    "    print(pose_graph.nodes[point_id].pose)\n",
    "    pcds_down[point_id].transform(pose_graph.nodes[point_id].pose)\n",
    "o3d.visualization.draw_geometries(pcds_down)"
   ]
  },
  {
   "cell_type": "code",
   "execution_count": 63,
   "metadata": {},
   "outputs": [
    {
     "name": "stdout",
     "output_type": "stream",
     "text": [
      "Make a combined point cloud\n"
     ]
    }
   ],
   "source": [
    "print(\"Make a combined point cloud\")\n",
    "pcds = load_point_clouds(voxel_size)\n",
    "pcd_combined = o3d.geometry.PointCloud()\n",
    "for point_id in range(len(pcds)):\n",
    "    pcds[point_id].transform(pose_graph.nodes[point_id].pose)\n",
    "    pcd_combined += pcds[point_id]\n",
    "#pcd_combined_down = pcd_combined.voxel_down_sample(voxel_size=voxel_size)\n",
    "pcd_combined_down = o3d.geometry.voxel_down_sample(pcd_combined, voxel_size = voxel_size)\n",
    "\n",
    "o3d.io.write_point_cloud(\"multiway_registration.pcd\", pcd_combined_down)\n",
    "o3d.visualization.draw_geometries([pcd_combined_down])"
   ]
  }
 ],
 "metadata": {
  "kernelspec": {
   "display_name": "Python 3",
   "language": "python",
   "name": "python3"
  },
  "language_info": {
   "codemirror_mode": {
    "name": "ipython",
    "version": 3
   },
   "file_extension": ".py",
   "mimetype": "text/x-python",
   "name": "python",
   "nbconvert_exporter": "python",
   "pygments_lexer": "ipython3",
   "version": "3.7.4"
  }
 },
 "nbformat": 4,
 "nbformat_minor": 2
}
