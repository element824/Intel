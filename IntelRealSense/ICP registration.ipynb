{
 "cells": [
  {
   "cell_type": "code",
   "execution_count": 4,
   "metadata": {},
   "outputs": [],
   "source": [
    "import open3d as o3d\n",
    "import numpy as np\n",
    "import copy"
   ]
  },
  {
   "cell_type": "code",
   "execution_count": null,
   "metadata": {},
   "outputs": [],
   "source": [
    "#ICP = Iterative Closest Point registration algorithm\n",
    "#input = 2 pointclouds and initial transformation that aligns \n",
    "#source point cloud to target point cloud\n",
    "#output = refined transformation that tightly aligns two points clouds\n",
    "\n",
    "#point-to-point ICP\n",
    "#point-to-plane ICP"
   ]
  },
  {
   "cell_type": "code",
   "execution_count": 5,
   "metadata": {},
   "outputs": [],
   "source": [
    "def draw_registration_result(source, target, transformation):\n",
    "    source_temp = copy.deepcopy(source)\n",
    "    target_temp = copy.deepcopy(target)\n",
    "    source_temp.paint_uniform_color([1, 0.706, 0])\n",
    "    target_temp.paint_uniform_color([0, 0.651, 0.929])\n",
    "    source_temp.transform(transformation)\n",
    "    o3d.visualization.draw_geometries([source_temp, target_temp])"
   ]
  },
  {
   "cell_type": "code",
   "execution_count": 1,
   "metadata": {},
   "outputs": [
    {
     "data": {
      "text/plain": [
       "'2.ply'"
      ]
     },
     "execution_count": 1,
     "metadata": {},
     "output_type": "execute_result"
    }
   ],
   "source": []
  },
  {
   "cell_type": "code",
   "execution_count": 6,
   "metadata": {},
   "outputs": [
    {
     "name": "stdout",
     "output_type": "stream",
     "text": [
      "Initial alignment\n",
      "registration::RegistrationResult with fitness = 0.000000, inlier_rmse = 0.000000, and correspondence_set size of 0\n",
      "Access transformation to get result.\n",
      "Apply point-to-point ICP\n",
      "registration::RegistrationResult with fitness = 0.000000, inlier_rmse = 0.000000, and correspondence_set size of 0\n",
      "Access transformation to get result.\n",
      "Transformation is:\n",
      "[[ 0.862  0.011 -0.507  0.5  ]\n",
      " [-0.139  0.967 -0.215  0.7  ]\n",
      " [ 0.487  0.255  0.835 -1.4  ]\n",
      " [ 0.     0.     0.     1.   ]]\n",
      "\n",
      "Apply point-to-plane ICP\n",
      "registration::RegistrationResult with fitness = 0.000000, inlier_rmse = 0.000000, and correspondence_set size of 0\n",
      "Access transformation to get result.\n",
      "Transformation is:\n",
      "[[ 0.862  0.011 -0.507  0.5  ]\n",
      " [-0.139  0.967 -0.215  0.7  ]\n",
      " [ 0.487  0.255  0.835 -1.4  ]\n",
      " [ 0.     0.     0.     1.   ]]\n",
      "\n"
     ]
    }
   ],
   "source": [
    "if __name__ == \"__main__\":\n",
    "    source = o3d.io.read_point_cloud(\"../../TestData/ICP/cloud_bin_0.pcd\")\n",
    "    target = o3d.io.read_point_cloud(\"../../TestData/ICP/cloud_bin_1.pcd\")\n",
    "    threshold = 0.02\n",
    "    trans_init = np.asarray([[0.862, 0.011, -0.507, 0.5],\n",
    "                             [-0.139, 0.967, -0.215, 0.7],\n",
    "                             [0.487, 0.255, 0.835, -1.4], [0.0, 0.0, 0.0, 1.0]])\n",
    "    draw_registration_result(source, target, trans_init)\n",
    "    print(\"Initial alignment\")\n",
    "    evaluation = o3d.registration.evaluate_registration(source, target,\n",
    "                                                        threshold, trans_init)\n",
    "    print(evaluation)\n",
    "\n",
    "    print(\"Apply point-to-point ICP\")\n",
    "    reg_p2p = o3d.registration.registration_icp(\n",
    "        source, target, threshold, trans_init,\n",
    "        o3d.registration.TransformationEstimationPointToPoint())\n",
    "    print(reg_p2p)\n",
    "    print(\"Transformation is:\")\n",
    "    print(reg_p2p.transformation)\n",
    "    print(\"\")\n",
    "    draw_registration_result(source, target, reg_p2p.transformation)\n",
    "\n",
    "    print(\"Apply point-to-plane ICP\")\n",
    "    reg_p2l = o3d.registration.registration_icp(\n",
    "        source, target, threshold, trans_init,\n",
    "        o3d.registration.TransformationEstimationPointToPlane())\n",
    "    print(reg_p2l)\n",
    "    print(\"Transformation is:\")\n",
    "    print(reg_p2l.transformation)\n",
    "    print(\"\")\n",
    "    draw_registration_result(source, target, reg_p2l.transformation)\n"
   ]
  }
 ],
 "metadata": {
  "kernelspec": {
   "display_name": "Python 3",
   "language": "python",
   "name": "python3"
  },
  "language_info": {
   "codemirror_mode": {
    "name": "ipython",
    "version": 3
   },
   "file_extension": ".py",
   "mimetype": "text/x-python",
   "name": "python",
   "nbconvert_exporter": "python",
   "pygments_lexer": "ipython3",
   "version": "3.7.4"
  }
 },
 "nbformat": 4,
 "nbformat_minor": 2
}
