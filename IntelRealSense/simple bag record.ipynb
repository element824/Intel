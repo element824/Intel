{
 "cells": [
  {
   "cell_type": "code",
   "execution_count": 1,
   "metadata": {},
   "outputs": [],
   "source": [
    "import pyrealsense2 as rs\n",
    "import matplotlib as plt\n",
    "import cv2\n",
    "import logging\n",
    "import numpy as np\n",
    "import time"
   ]
  },
  {
   "cell_type": "code",
   "execution_count": 2,
   "metadata": {},
   "outputs": [],
   "source": [
    "ctx = rs.context()\n",
    "devices = ctx.query_devices()"
   ]
  },
  {
   "cell_type": "code",
   "execution_count": 3,
   "metadata": {},
   "outputs": [],
   "source": [
    "var = [i.get_info(rs.camera_info.serial_number) for i in devices]"
   ]
  },
  {
   "cell_type": "code",
   "execution_count": 4,
   "metadata": {},
   "outputs": [
    {
     "data": {
      "text/plain": [
       "['923322071362', '923322070538']"
      ]
     },
     "execution_count": 4,
     "metadata": {},
     "output_type": "execute_result"
    }
   ],
   "source": [
    "var"
   ]
  },
  {
   "cell_type": "code",
   "execution_count": 7,
   "metadata": {},
   "outputs": [],
   "source": [
    "#configure depth and color streams\n",
    "pipeline = rs.pipeline()\n",
    "config = rs.config()\n",
    "config.enable_device(var[0])\n",
    "config.enable_stream(rs.stream.depth, 848, 480, rs.format.z16, 90)\n",
    "config.enable_stream(rs.stream.color, 640, 480, rs.format.bgr8, 60)\n",
    "config.enable_record_to_file('simplecam.bag')\n",
    "#start stream\n",
    "pipeline.start(config)\n",
    "\n",
    "try:\n",
    "    start = time.time()\n",
    "    while time.time() - start <10:\n",
    "        \n",
    "        frames = pipeline.wait_for_frames()\n",
    "        depthframe = frames.get_depth_frame()\n",
    "        colframe = frames.get_color_frame()\n",
    "        if not depthframe:\n",
    "            continue\n",
    "        \n",
    "        #depth_counter = depthframe.get_frame_metadata(rs.frame_metadata_value.frame_counter)\n",
    "        #if depth_counter > 5400:\n",
    "         #   break\n",
    "        \n",
    "        #convert images to numpy arrays\n",
    "        depthim = np.asanyarray(depthframe.get_data())\n",
    "        colim = np.asanyarray(colframe.get_data())\n",
    "        \n",
    "        #apply color map on depth image, convert to 8bit pixel\n",
    "        depthcolmap = cv2.applyColorMap(cv2.convertScaleAbs(depthim, alpha=0.5), cv2.COLORMAP_JET)\n",
    "        \n",
    "        #stack all images horizontally\n",
    "        images = np.hstack((colim, depthcolmap))\n",
    "        \n",
    "        #show images from cameras\n",
    "        cv2.namedWindow('RealSense', cv2.WINDOW_NORMAL)\n",
    "        cv2.imshow('RealSense', images)\n",
    "        cv2.waitKey(1)\n",
    "    \n",
    "finally:\n",
    "    #stop streaming\n",
    "    pipeline.stop()\n",
    "    cv2.destroyAllWindows()\n",
    "    del pipeline\n",
    "    del config"
   ]
  },
  {
   "cell_type": "code",
   "execution_count": null,
   "metadata": {},
   "outputs": [],
   "source": []
  }
 ],
 "metadata": {
  "kernelspec": {
   "display_name": "Python 3",
   "language": "python",
   "name": "python3"
  },
  "language_info": {
   "codemirror_mode": {
    "name": "ipython",
    "version": 3
   },
   "file_extension": ".py",
   "mimetype": "text/x-python",
   "name": "python",
   "nbconvert_exporter": "python",
   "pygments_lexer": "ipython3",
   "version": "3.7.4"
  }
 },
 "nbformat": 4,
 "nbformat_minor": 2
}
