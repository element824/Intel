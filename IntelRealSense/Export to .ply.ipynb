{
 "cells": [
  {
   "cell_type": "code",
   "execution_count": 4,
   "metadata": {},
   "outputs": [],
   "source": [
    "import pyrealsense2 as rs\n",
    "import numpy as np\n",
    "import open3d as o3d\n",
    "from pyntcloud import PyntCloud\n",
    "from plyfile import PlyData, PlyElement"
   ]
  },
  {
   "cell_type": "code",
   "execution_count": 5,
   "metadata": {},
   "outputs": [
    {
     "name": "stderr",
     "output_type": "stream",
     "text": [
      "/home/alissa/anaconda3/envs/intel_env/lib/python3.7/site-packages/plyfile.py:909: UserWarning: loadtxt: Empty input file: \"[]\"\n",
      "  data = _np.loadtxt(list(_islice(fields, n)), val_t, ndmin=1)\n"
     ]
    }
   ],
   "source": [
    "plydata = PlyData.read('/home/alissa/IntelRealSense/bunny/data/bun000.ply')"
   ]
  },
  {
   "cell_type": "code",
   "execution_count": 9,
   "metadata": {},
   "outputs": [
    {
     "data": {
      "text/plain": [
       "PlyData((PlyElement('vertex', (PlyProperty('x', 'float'), PlyProperty('y', 'float'), PlyProperty('z', 'float')), count=40256, comments=[]), PlyElement('range_grid', (PlyListProperty('vertex_indices', 'uchar', 'int'),), count=204800, comments=[])), text=True, byte_order='=', comments=[], obj_info=['is_cyberware_data 1', 'is_mesh 0', 'is_warped 0', 'is_interlaced 1', 'num_cols 512', 'num_rows 400', 'echo_rgb_offset_x 0.013000', 'echo_rgb_offset_y 0.153600', 'echo_rgb_offset_z 0.172000', 'echo_rgb_frontfocus 0.930000', 'echo_rgb_backfocus 0.012660', 'echo_rgb_pixelsize 0.000010', 'echo_rgb_centerpixel 232', 'echo_frames 512', 'echo_lgincr 0.000500'])"
      ]
     },
     "execution_count": 9,
     "metadata": {},
     "output_type": "execute_result"
    }
   ],
   "source": [
    "plydata"
   ]
  },
  {
   "cell_type": "code",
   "execution_count": 4,
   "metadata": {},
   "outputs": [
    {
     "name": "stdout",
     "output_type": "stream",
     "text": [
      "file enabled\n"
     ]
    }
   ],
   "source": [
    "#declare realsense pipeline\n",
    "pipe = rs.pipeline()\n",
    "config = rs.config()\n",
    "rs.config.enable_device_from_file(config,'multicam1.bag')\n",
    "config.enable_stream(rs.stream.depth,848,480, rs.format.z16, 90)\n",
    "config.enable_stream(rs.stream.color, 640, 480, rs.format.bgr8, 60)\n",
    "pipe.start(config)\n",
    "print('file enabled')"
   ]
  },
  {
   "cell_type": "code",
   "execution_count": 10,
   "metadata": {},
   "outputs": [
    {
     "name": "stdout",
     "output_type": "stream",
     "text": [
      "got stream profile and camera intrinsics\n",
      "processed blocks\n"
     ]
    }
   ],
   "source": [
    "profile = pipe.get_active_profile()\n",
    "depth_profile = rs.video_stream_profile(profile.get_stream(rs.stream.depth))\n",
    "depth_intrinsics = depth_profile.get_intrinsics()\n",
    "w,h = depth_intrinsics.width, depth_intrinsics.height\n",
    "print('got stream profile and camera intrinsics')\n",
    "\n",
    "#declare pointcloud object for calculating \n",
    "#pointclouds and texture mappings\n",
    "pc = rs.pointcloud()\n",
    "decimate = rs.decimation_filter()\n",
    "\n",
    "colorizer = rs.colorizer()\n",
    "print('processed blocks')\n",
    "points = rs.points()\n"
   ]
  },
  {
   "cell_type": "code",
   "execution_count": 12,
   "metadata": {},
   "outputs": [
    {
     "name": "stdout",
     "output_type": "stream",
     "text": [
      "Saving to 1.ply...\n",
      "Saving to 1.ply...\n",
      "Saving to 1.ply...\n",
      "Saving to 1.ply...\n",
      "Saving to 1.ply...\n",
      "Saving to 1.ply...\n",
      "Saving to 1.ply...\n",
      "Saving to 1.ply...\n",
      "Saving to 1.ply...\n",
      "Saving to 1.ply...\n",
      "Saving to 1.ply...\n",
      "Saving to 1.ply...\n",
      "Saving to 1.ply...\n",
      "Saving to 1.ply...\n",
      "Saving to 1.ply...\n",
      "Saving to 1.ply...\n",
      "Saving to 1.ply...\n"
     ]
    },
    {
     "ename": "KeyboardInterrupt",
     "evalue": "",
     "output_type": "error",
     "traceback": [
      "\u001b[0;31m---------------------------------------------------------------------------\u001b[0m",
      "\u001b[0;31mKeyboardInterrupt\u001b[0m                         Traceback (most recent call last)",
      "\u001b[0;32m<ipython-input-12-921e7b537d8b>\u001b[0m in \u001b[0;36m<module>\u001b[0;34m\u001b[0m\n\u001b[1;32m     18\u001b[0m \u001b[0;34m\u001b[0m\u001b[0m\n\u001b[1;32m     19\u001b[0m         \u001b[0mprint\u001b[0m\u001b[0;34m(\u001b[0m\u001b[0;34m\"Saving to 1.ply...\"\u001b[0m\u001b[0;34m)\u001b[0m\u001b[0;34m\u001b[0m\u001b[0;34m\u001b[0m\u001b[0m\n\u001b[0;32m---> 20\u001b[0;31m         \u001b[0mpoints\u001b[0m\u001b[0;34m.\u001b[0m\u001b[0mexport_to_ply\u001b[0m\u001b[0;34m(\u001b[0m\u001b[0;34m\"1.ply\"\u001b[0m\u001b[0;34m,\u001b[0m \u001b[0mcolor_frame\u001b[0m\u001b[0;34m)\u001b[0m\u001b[0;34m\u001b[0m\u001b[0;34m\u001b[0m\u001b[0m\n\u001b[0m\u001b[1;32m     21\u001b[0m \u001b[0;34m\u001b[0m\u001b[0m\n\u001b[1;32m     22\u001b[0m \u001b[0;32mfinally\u001b[0m\u001b[0;34m:\u001b[0m\u001b[0;34m\u001b[0m\u001b[0;34m\u001b[0m\u001b[0m\n",
      "\u001b[0;31mKeyboardInterrupt\u001b[0m: "
     ]
    }
   ],
   "source": [
    "try:\n",
    "    while True:\n",
    "        frames = pipe.wait_for_frames()\n",
    "        depth_frame = frames.get_depth_frame()\n",
    "        depth_frame = decimate.process(depth_frame)\n",
    "        color_frame = frames.get_color_frame()\n",
    "        depth_intrinsics = rs.video_stream_profile(\n",
    "            depth_frame.profile).get_intrinsics()\n",
    "\n",
    "        depth_image = np.asanyarray(depth_frame.get_data())\n",
    "        color_image = np.asanyarray(color_frame.get_data())\n",
    "\n",
    "        depth_colormap = np.asanyarray(colorizer.colorize(depth_frame).get_data())\n",
    "        mapped_frame, color_source = depth_frame, depth_colormap\n",
    "\n",
    "        points = pc.calculate(depth_frame)\n",
    "        pc.map_to(mapped_frame)\n",
    "\n",
    "        print(\"Saving to 1.ply...\")\n",
    "        points.export_to_ply(\"1.ply\", color_frame)\n",
    "    \n",
    "finally:\n",
    "    pipe.stop()\n",
    "    del pipe\n",
    "    del config"
   ]
  }
 ],
 "metadata": {
  "kernelspec": {
   "display_name": "Python 3",
   "language": "python",
   "name": "python3"
  },
  "language_info": {
   "codemirror_mode": {
    "name": "ipython",
    "version": 3
   },
   "file_extension": ".py",
   "mimetype": "text/x-python",
   "name": "python",
   "nbconvert_exporter": "python",
   "pygments_lexer": "ipython3",
   "version": "3.7.4"
  }
 },
 "nbformat": 4,
 "nbformat_minor": 2
}
