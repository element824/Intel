{
 "cells": [
  {
   "cell_type": "code",
   "execution_count": 10,
   "metadata": {},
   "outputs": [],
   "source": [
    "import cv2\n",
    "import numpy as np\n",
    "import matplotlib.pyplot as plt\n",
    "import pyrealsense2 as rs\n",
    "from pyntcloud import PyntCloud"
   ]
  },
  {
   "cell_type": "code",
   "execution_count": 11,
   "metadata": {},
   "outputs": [
    {
     "data": {
      "text/plain": [
       "<pyrealsense2.pyrealsense2.pipeline_profile at 0x7fdeb6924530>"
      ]
     },
     "execution_count": 11,
     "metadata": {},
     "output_type": "execute_result"
    }
   ],
   "source": [
    "pipeline = rs.pipeline()\n",
    "config = rs.config()    \n",
    "rs.config.enable_device_from_file(config, 'multicam1.bag')\n",
    "config.enable_stream(rs.stream.depth, 848, 480, rs.format.z16, 90)   \n",
    "#config.enable_stream(rs.stream.color, 640, 480, rs.format.z16, 60)  \n",
    "#start streaming\n",
    "pipeline.start(config)\n"
   ]
  },
  {
   "cell_type": "code",
   "execution_count": 12,
   "metadata": {},
   "outputs": [],
   "source": [
    "#playback recording \n",
    "cv2.namedWindow(\"Depth Stream\", cv2.WINDOW_AUTOSIZE)\n",
    "colorizer = rs.colorizer()\n",
    "\n",
    "frame_list = []\n",
    "try:\n",
    "    while True:\n",
    "        frames = pipeline.wait_for_frames()\n",
    "        #depth frames\n",
    "        depth_frame = frames.get_depth_frame()\n",
    "        depth_frame_raw = np.asanyarray(depth_frame.get_data())\n",
    "        depth_color_frame = colorizer.colorize(depth_frame)\n",
    "        depth_color_image = np.asanyarray(depth_color_frame.get_data())\n",
    "        \n",
    "        #color frames\n",
    "        color_frame = frames.get_color_frame()\n",
    "        \n",
    "        cv2.imshow(\"Depth Stream\", depth_color_image)\n",
    "        key = cv2.waitKey(1)\n",
    "        if key == 27: #esc\n",
    "            cv2.destroyAllWindows()\n",
    "            break\n",
    "            \n",
    "        frame_count = depth_frame.get_frame_metadata(rs.frame_metadata_value.frame_counter)\n",
    "        frame_list.append(frame_count)\n",
    "        if frame_count == 5400:\n",
    "            break\n",
    "            \n",
    "finally:\n",
    "    cv2.destroyAllWindows()\n",
    "    pipeline.stop()\n",
    "            \n",
    "        "
   ]
  }
 ],
 "metadata": {
  "kernelspec": {
   "display_name": "Python 3",
   "language": "python",
   "name": "python3"
  },
  "language_info": {
   "codemirror_mode": {
    "name": "ipython",
    "version": 3
   },
   "file_extension": ".py",
   "mimetype": "text/x-python",
   "name": "python",
   "nbconvert_exporter": "python",
   "pygments_lexer": "ipython3",
   "version": "3.7.4"
  }
 },
 "nbformat": 4,
 "nbformat_minor": 2
}
