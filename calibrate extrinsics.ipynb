{
 "cells": [
  {
   "cell_type": "code",
   "execution_count": 43,
   "metadata": {},
   "outputs": [],
   "source": [
    "import pyrealsense2 as rs\n",
    "import cv2\n",
    "import numpy as np\n",
    "from math import tan, pi\n",
    "import matplotlib.pyplot as plt"
   ]
  },
  {
   "cell_type": "code",
   "execution_count": 2,
   "metadata": {},
   "outputs": [],
   "source": [
    "ctx = rs.context()\n",
    "devices = ctx.query_devices()"
   ]
  },
  {
   "cell_type": "code",
   "execution_count": 3,
   "metadata": {},
   "outputs": [],
   "source": [
    "var = [i.get_info(rs.camera_info.serial_number) for i in devices]"
   ]
  },
  {
   "cell_type": "code",
   "execution_count": 5,
   "metadata": {},
   "outputs": [
    {
     "data": {
      "text/plain": [
       "['923322070538', '923322071362']"
      ]
     },
     "execution_count": 5,
     "metadata": {},
     "output_type": "execute_result"
    }
   ],
   "source": [
    "var"
   ]
  },
  {
   "cell_type": "code",
   "execution_count": 6,
   "metadata": {},
   "outputs": [],
   "source": [
    "def get_extrinsics(src,dst):\n",
    "    extrinsics = src.get_extrinsics_to(dst)\n",
    "    R = np.reshape(extrinsics.rotation, [3,3]).T\n",
    "    T = np.array(extrinsics.translation)\n",
    "    return (R,T)"
   ]
  },
  {
   "cell_type": "code",
   "execution_count": 7,
   "metadata": {},
   "outputs": [],
   "source": [
    "#returns camera matrix from intrinsics\n",
    "def camera_matrix(intrinsics):\n",
    "    return np.array([[intrinsics.fx, 0, intrinsics.ppx],\n",
    "                     [0, intrinsics.fy, intrinsics.ppy],\n",
    "                    [0,0,1]])"
   ]
  },
  {
   "cell_type": "code",
   "execution_count": 8,
   "metadata": {},
   "outputs": [],
   "source": [
    "def callback(frame):\n",
    "    global frame_data\n",
    "    if frame.is_frameset():\n",
    "        frameset = frame.as_frameset()\n",
    "        f1 = frameset.as_video_frame()\n",
    "        f2 = frameset.as_video_frame()\n",
    "        left_data = np.asanyarray(f1.get_data())\n",
    "        right_data = np.asanyarray(f2.get_data())\n",
    "        ts = frameset.get_timestap()\n",
    "        frame_data[\"left\"] = left_data\n",
    "        frame_data[\"right\"] = right_data\n",
    "        frame_data[\"timestamp\"] = ts\n",
    "        frame_mutex.release()"
   ]
  },
  {
   "cell_type": "code",
   "execution_count": 8,
   "metadata": {},
   "outputs": [
    {
     "data": {
      "text/plain": [
       "<pyrealsense2.pyrealsense2.pipeline_profile at 0x7f3760356bf0>"
      ]
     },
     "execution_count": 8,
     "metadata": {},
     "output_type": "execute_result"
    }
   ],
   "source": [
    "pipe = rs.pipeline()\n",
    "cfg = rs.config()\n",
    "cfg.enable_stream(rs.stream.depth, 848, 480, rs.format.z16, 90)\n",
    "pipe.start(cfg, callback)"
   ]
  },
  {
   "cell_type": "code",
   "execution_count": 71,
   "metadata": {},
   "outputs": [
    {
     "ename": "NameError",
     "evalue": "name 'pipe_profile' is not defined",
     "output_type": "error",
     "traceback": [
      "\u001b[0;31m---------------------------------------------------------------------------\u001b[0m",
      "\u001b[0;31mNameError\u001b[0m                                 Traceback (most recent call last)",
      "\u001b[0;32m<ipython-input-71-4888d9323d45>\u001b[0m in \u001b[0;36m<module>\u001b[0;34m\u001b[0m\n\u001b[1;32m      3\u001b[0m \u001b[0;31m#retrieve the depth of pixels in meters\u001b[0m\u001b[0;34m\u001b[0m\u001b[0;34m\u001b[0m\u001b[0;34m\u001b[0m\u001b[0m\n\u001b[1;32m      4\u001b[0m \u001b[0;31m#depth scale - units of the values inside depth frame\u001b[0m\u001b[0;34m\u001b[0m\u001b[0;34m\u001b[0m\u001b[0;34m\u001b[0m\u001b[0m\n\u001b[0;32m----> 5\u001b[0;31m \u001b[0mdepth_sensor\u001b[0m \u001b[0;34m=\u001b[0m \u001b[0mpipe_profile\u001b[0m\u001b[0;34m.\u001b[0m\u001b[0mget_device\u001b[0m\u001b[0;34m(\u001b[0m\u001b[0;34m)\u001b[0m\u001b[0;34m.\u001b[0m\u001b[0mfirst_depth_sensor\u001b[0m\u001b[0;34m(\u001b[0m\u001b[0;34m)\u001b[0m\u001b[0;34m\u001b[0m\u001b[0;34m\u001b[0m\u001b[0m\n\u001b[0m\u001b[1;32m      6\u001b[0m \u001b[0mdepth_scale\u001b[0m \u001b[0;34m=\u001b[0m \u001b[0mdepth_sensor\u001b[0m\u001b[0;34m.\u001b[0m\u001b[0mget_depth_scale\u001b[0m\u001b[0;34m(\u001b[0m\u001b[0;34m)\u001b[0m\u001b[0;34m\u001b[0m\u001b[0;34m\u001b[0m\u001b[0m\n\u001b[1;32m      7\u001b[0m \u001b[0mdepth_scale\u001b[0m\u001b[0;34m\u001b[0m\u001b[0;34m\u001b[0m\u001b[0m\n",
      "\u001b[0;31mNameError\u001b[0m: name 'pipe_profile' is not defined"
     ]
    }
   ],
   "source": [
    "#depth is stored as one unsigned 16-bit integer per pixel\n",
    "#distance in meters\n",
    "#retrieve the depth of pixels in meters\n",
    "#depth scale - units of the values inside depth frame\n",
    "depth_sensor = pipe_profile.get_device().first_depth_sensor()\n",
    "depth_scale = depth_sensor.get_depth_scale()\n",
    "depth_scale"
   ]
  },
  {
   "cell_type": "code",
   "execution_count": 9,
   "metadata": {},
   "outputs": [
    {
     "ename": "AttributeError",
     "evalue": "'pyrealsense2.pyrealsense2.pipeline' object has no attribute 'get_depth_frame'",
     "output_type": "error",
     "traceback": [
      "\u001b[0;31m---------------------------------------------------------------------------\u001b[0m",
      "\u001b[0;31mAttributeError\u001b[0m                            Traceback (most recent call last)",
      "\u001b[0;32m<ipython-input-9-daa175f89fe8>\u001b[0m in \u001b[0;36m<module>\u001b[0;34m\u001b[0m\n\u001b[0;32m----> 1\u001b[0;31m \u001b[0mdpt_frame\u001b[0m \u001b[0;34m=\u001b[0m \u001b[0mpipe\u001b[0m\u001b[0;34m.\u001b[0m\u001b[0mget_depth_frame\u001b[0m\u001b[0;34m(\u001b[0m\u001b[0;34m)\u001b[0m\u001b[0;34m.\u001b[0m\u001b[0mas_depth_frame\u001b[0m\u001b[0;34m(\u001b[0m\u001b[0;34m)\u001b[0m\u001b[0;34m\u001b[0m\u001b[0;34m\u001b[0m\u001b[0m\n\u001b[0m\u001b[1;32m      2\u001b[0m \u001b[0mpixel_dist_meters\u001b[0m \u001b[0;34m=\u001b[0m \u001b[0mdpt_frame\u001b[0m\u001b[0;34m.\u001b[0m\u001b[0mget_distance\u001b[0m\u001b[0;34m(\u001b[0m\u001b[0mx\u001b[0m\u001b[0;34m,\u001b[0m\u001b[0my\u001b[0m\u001b[0;34m)\u001b[0m\u001b[0;34m\u001b[0m\u001b[0;34m\u001b[0m\u001b[0m\n\u001b[1;32m      3\u001b[0m \u001b[0mpixel_dist_meters\u001b[0m\u001b[0;34m\u001b[0m\u001b[0;34m\u001b[0m\u001b[0m\n",
      "\u001b[0;31mAttributeError\u001b[0m: 'pyrealsense2.pyrealsense2.pipeline' object has no attribute 'get_depth_frame'"
     ]
    }
   ],
   "source": [
    "dpt_frame = pipe.get_depth_frame().as_depth_frame()\n",
    "pixel_dist_meters = dpt_frame.get_distance(x,y)\n",
    "pixel_dist_meters"
   ]
  },
  {
   "cell_type": "code",
   "execution_count": 51,
   "metadata": {},
   "outputs": [
    {
     "data": {
      "text/plain": [
       "[<pyrealsense2.video_stream_profile: 1(0) 640x480 @ 15fps 1>,\n",
       " <pyrealsense2.video_stream_profile: 2(0) 640x480 @ 15fps 5>]"
      ]
     },
     "execution_count": 51,
     "metadata": {},
     "output_type": "execute_result"
    }
   ],
   "source": [
    "profiles.get_streams()"
   ]
  },
  {
   "cell_type": "code",
   "execution_count": 49,
   "metadata": {},
   "outputs": [
    {
     "name": "stdout",
     "output_type": "stream",
     "text": [
      "Left camera: width: 640, height: 480, ppx: 316.495, ppy: 241.142, fx: 384.165, fy: 384.165, model: 4, coeffs: [0, 0, 0, 0, 0]\n",
      "Right camera: width: 640, height: 480, ppx: 327.827, ppy: 245.496, fx: 607.461, fy: 606.897, model: 2, coeffs: [0, 0, 0, 0, 0]\n",
      "rotation matrix: [[ 9.99991894e-01  3.35063622e-03  2.21985020e-03]\n",
      " [-3.35099758e-03  9.99994397e-01  1.59139410e-04]\n",
      " [-2.21930444e-03 -1.66576836e-04  9.99997497e-01]]\n",
      "translation matrix: [ 1.50379241e-02  8.37687185e-05 -2.61208945e-04]\n"
     ]
    }
   ],
   "source": [
    "try:\n",
    "    #retrieve stream and intrinsic properties\n",
    "    profiles = pipe.get_active_profile()\n",
    "    streams = {\"left\": profiles.get_streams()[0].as_video_stream_profile(),\n",
    "              \"right\": profiles.get_streams()[1].as_video_stream_profile()}\n",
    "    intrinsics = {\"left\": streams[\"left\"].get_intrinsics(),\n",
    "                 \"right\": streams[\"right\"].get_intrinsics()}\n",
    "    \n",
    "    \n",
    "    print(\"Left camera:\", intrinsics[\"left\"])\n",
    "    print(\"Right camera:\", intrinsics[\"right\"])\n",
    "    \n",
    "    K_left = camera_matrix(intrinsics[\"left\"])\n",
    "    K_right = camera_matrix(intrinsics[\"right\"])\n",
    "    \n",
    "    (R,T) = get_extrinsics(streams[\"left\"], streams[\"right\"])\n",
    "    print(\"rotation matrix:\", R)\n",
    "    print(\"translation matrix:\", T)\n",
    "\n",
    "finally:\n",
    "    pipe.stop()\n",
    "    del pipe\n",
    "    del config"
   ]
  },
  {
   "cell_type": "code",
   "execution_count": null,
   "metadata": {},
   "outputs": [],
   "source": [
    "#transform points from one coordinate space to another after knowing extrinsics\n",
    "#standard affine transformation using a 3x3 rotation matrix and 3-component translation vector\n",
    "rs.rs2_transform_point_to_point()"
   ]
  },
  {
   "cell_type": "code",
   "execution_count": null,
   "metadata": {},
   "outputs": [],
   "source": [
    "#deprojection - 2D pixel location + depth and maps it to 3D point location\n",
    "rs.rs2_deproject_pixel_to_point()"
   ]
  },
  {
   "cell_type": "code",
   "execution_count": 9,
   "metadata": {},
   "outputs": [
    {
     "name": "stdout",
     "output_type": "stream",
     "text": [
      "cam1 enabled\n"
     ]
    }
   ],
   "source": [
    "#cam1: configure depth and color streams \n",
    "pipeline1 = rs.pipeline()\n",
    "config1 = rs.config()\n",
    "config1.enable_device(var[0])\n",
    "config1.enable_stream(rs.stream.depth, 848, 480, rs.format.z16, 90)\n",
    "config1.enable_stream(rs.stream.color, 640, 480, rs.format.bgr8, 60)\n",
    "config1.enable_record_to_file('multicam1.bag')\n",
    "print('cam1 enabled')"
   ]
  },
  {
   "cell_type": "code",
   "execution_count": 10,
   "metadata": {},
   "outputs": [
    {
     "name": "stdout",
     "output_type": "stream",
     "text": [
      "cam2 enabled\n"
     ]
    }
   ],
   "source": [
    "#cam1: configure depth and color streams \n",
    "pipeline2 = rs.pipeline()\n",
    "config2 = rs.config()\n",
    "config2.enable_device(var[1])\n",
    "config2.enable_stream(rs.stream.depth, 848, 480, rs.format.z16, 90)\n",
    "config2.enable_stream(rs.stream.color, 640, 480, rs.format.bgr8, 60)\n",
    "config2.enable_record_to_file('multicam2.bag')\n",
    "print('cam2 enabled')"
   ]
  },
  {
   "cell_type": "code",
   "execution_count": 11,
   "metadata": {},
   "outputs": [
    {
     "name": "stdout",
     "output_type": "stream",
     "text": [
      "cams configured\n"
     ]
    }
   ],
   "source": [
    "#start stream\n",
    "pipeline1.start(config1)\n",
    "pipeline2.start(config2)\n",
    "print('cams configured')"
   ]
  },
  {
   "cell_type": "code",
   "execution_count": 12,
   "metadata": {},
   "outputs": [],
   "source": [
    "frames1 = pipeline1.wait_for_frames()\n",
    "depthframe1 = frames1.get_depth_frame()\n",
    "colframe1 = frames1.get_color_frame()"
   ]
  },
  {
   "cell_type": "code",
   "execution_count": 13,
   "metadata": {},
   "outputs": [],
   "source": [
    "frames2 = pipeline2.wait_for_frames()\n",
    "depthframe2 = frames2.get_depth_frame()\n",
    "colframe2 = frames2.get_color_frame()"
   ]
  },
  {
   "cell_type": "code",
   "execution_count": 45,
   "metadata": {},
   "outputs": [
    {
     "name": "stdout",
     "output_type": "stream",
     "text": [
      "[[0 0 0 ... 0 0 0]\n",
      " [0 0 0 ... 0 0 0]\n",
      " [0 0 0 ... 0 0 0]\n",
      " ...\n",
      " [0 0 0 ... 0 0 0]\n",
      " [0 0 0 ... 0 0 0]\n",
      " [0 0 0 ... 0 0 0]]\n",
      "(480, 848)\n"
     ]
    },
    {
     "data": {
      "image/png": "[encoded data removed]",
      "text/plain": [
       "<Figure size 432x288 with 1 Axes>"
      ]
     },
     "metadata": {
      "needs_background": "light"
     },
     "output_type": "display_data"
    }
   ],
   "source": [
    "#get depth info for each pixel from cam1\n",
    "depth_data = depthframe1.as_frame().get_data()\n",
    "np.image = np.asanyarray(depth_data)\n",
    "print(np.image)\n",
    "print(np.image.shape)\n",
    "plt.plot(np.image)\n",
    "plt.show()"
   ]
  },
  {
   "cell_type": "code",
   "execution_count": 37,
   "metadata": {},
   "outputs": [
    {
     "name": "stdout",
     "output_type": "stream",
     "text": [
      "[[   0    0    0 ...    0    0    0]\n",
      " [   0    0    0 ... 1033 1031    0]\n",
      " [   0    0    0 ... 1033 1033    0]\n",
      " ...\n",
      " [   0    0    0 ...  434    0    0]\n",
      " [   0    0    0 ...  434    0    0]\n",
      " [   0    0    0 ...    0    0    0]]\n"
     ]
    }
   ],
   "source": [
    "#get depth info for each pixel from cam2\n",
    "depth_data2 = depthframe2.as_frame().get_data()\n",
    "np.image2 = np.asanyarray(depth_data2)\n",
    "print(np.image2)"
   ]
  },
  {
   "cell_type": "code",
   "execution_count": 38,
   "metadata": {},
   "outputs": [
    {
     "data": {
      "text/plain": [
       "array([    0,     0,     0, 45587, 14762, 29226,  8269,  8960,  7172,\n",
       "       24550, 26317,  1503, 21277, 27053, 43745, 45045, 39472, 43748,\n",
       "        1553, 12305,  9326,  7519, 11677,  5041, 45555, 15753, 13386,\n",
       "       59968, 40347, 12338, 28484, 34711, 35428, 49678, 49794, 32648,\n",
       "       41481, 32260, 21096, 16936, 11875,  2639,  3800, 64677,  1548,\n",
       "       52431, 51314, 29451, 16078, 38315, 48920, 39719,  5107, 61360,\n",
       "        3251,   638, 14063, 21040, 26916, 30715, 25535, 36861, 45195,\n",
       "       53370, 40471, 33180, 33860, 21005, 23080, 48735, 38897, 45655,\n",
       "       37883, 26631, 55173, 42127, 23818, 26575, 29831, 58410, 15227,\n",
       "        5846,  5258, 43832, 20934, 27802, 65210, 38826, 16661, 61441,\n",
       "       30446, 23673, 15170, 41181, 26957,  4683, 54019,  7819,  3136,\n",
       "        3639,  9407, 18850, 64464, 59518,  5452,  7275, 14254, 40576,\n",
       "       60381, 21238, 41288,   343, 12862, 25974, 15340, 15631,  8779,\n",
       "       63585, 59101, 21120, 10987, 46837, 49360, 19195, 38828,  4422,\n",
       "       43751, 34224,  5304, 26115, 18528, 33330, 41588, 24787,   294,\n",
       "       42644, 52703, 42202,  7839,  1343, 30830, 40590, 52894,  7614,\n",
       "       43247, 51604, 30941, 37476, 29113, 19122, 63151, 42381, 27772,\n",
       "       28431, 44866, 65456, 24385, 32049, 49232, 45863, 28182, 21265,\n",
       "       22661,  5359, 57300,  3684, 23782, 13902,  5901, 53841, 41465,\n",
       "        1891, 12963, 12296,  6475, 33644,  4709, 24976, 54291,  2091,\n",
       "       20080, 10808, 43224, 48330, 64661, 52933, 58650,  5510, 21188,\n",
       "       28287, 21743, 23829, 26976, 52890, 12587, 23137, 12459, 29956,\n",
       "       40333, 52792, 49560, 63646, 57324, 53575, 48657, 47668, 59630,\n",
       "       16887, 12406, 24984, 37924, 48012, 34755, 50956, 55091, 53652,\n",
       "       60558, 60614,  2123, 63996, 60402, 57400, 49866, 44597, 45941,\n",
       "       55296, 48230, 46720, 31733, 27297, 21385, 11859,  9727, 53814,\n",
       "       39756, 25444, 18159,  4910,  5357,  4684,  5971, 15939, 14419,\n",
       "       32145, 61245, 34263, 30594, 22300, 45816, 46415, 58889, 53431,\n",
       "       50954, 57103, 10690,  4280, 16332, 64780, 55883, 39393, 45893,\n",
       "       40483, 40908, 31942, 23265, 17739, 16780, 17245, 31605, 24912,\n",
       "       14283, 10958, 55357, 42514, 22444, 41782, 46395, 43089, 40579,\n",
       "       39976, 32709, 31699, 28504, 12528, 18651, 15799, 26028, 32055,\n",
       "       32734, 36728, 47502, 43023, 40016, 34112,  4156, 57638, 40204,\n",
       "       45323, 53059, 10573, 36535,  7433,  4696, 60032, 54974, 45916,\n",
       "       35160, 37808, 25228, 24227, 28049, 30317, 25933, 20079, 64662,\n",
       "       56052, 31049, 20443, 16180,  9802, 58297, 59235, 36531, 26990,\n",
       "       24234, 20106, 35163, 22378,  3428, 52432, 53801, 50806, 62145,\n",
       "       59051, 55358, 27779, 23840,  9575, 62792, 53569,  3186, 37856,\n",
       "       14876, 36595, 43356,  7433, 19344, 61012, 22202, 20127, 12788,\n",
       "       64526, 42446, 19472, 64847, 52060, 37865, 21145, 13177, 17722,\n",
       "        8311, 19007,  2422,  2059, 64455, 22220, 48841, 23403, 62647,\n",
       "       54862, 43547, 38351, 36838, 33313, 30859, 28949, 26052,  2603,\n",
       "       49118, 54298, 38682, 38215, 48891, 45626, 46072, 42248, 37190,\n",
       "       30812,  4815, 54324, 57139, 49946,   197, 51034, 39192, 33123,\n",
       "       24192, 65074, 65345,  3588, 25562, 28054, 55488,  2601, 64170,\n",
       "        3061, 11200,  9168, 10163, 10292,  3861,  4842,  4962,  3617,\n",
       "        3084,  4921,  4304,  6573, 13096, 13974, 14101,  9251,  7365,\n",
       "       63945, 49510, 44129, 38703, 42310, 32257, 35341, 23372,  3293,\n",
       "       61392,  4998,  7558, 14286, 28600, 50294, 58370,   113, 65207,\n",
       "        3892,  7477,  7043,  6878,  6116,  5917,  5742,  4303,   795,\n",
       "       56482, 42939, 39899, 32413, 25284, 12817, 60001, 51388, 40068,\n",
       "       45319, 43115, 44158, 44647, 45201, 45169, 45132, 44577, 44590,\n",
       "       44064, 44127, 43652, 43743, 43289, 42835, 41279, 40264, 43924,\n",
       "       46930,  3096, 32772, 49932, 16380, 25293, 36489, 42437, 51678,\n",
       "       52012, 60411, 63790,  1871,  3510,  5317, 10756, 39773, 60212,\n",
       "       63835,   732,   222,  4633, 58116, 61701, 51150, 41645, 14898,\n",
       "       25219, 31463, 44247, 60490, 53924,  2400, 19526, 43898,  6797,\n",
       "       15144, 16424, 18148, 20983, 42641,  4873, 28607, 35607, 60108,\n",
       "       38557, 57432,  3795, 25162, 36816,  2285, 34295, 50308,  4871,\n",
       "        3633,  4982,  2572,  2515,  2692, 65414,    89,  1497, 64172,\n",
       "       61018, 58601, 59070, 56014, 52797, 53025, 50652, 46738, 42366,\n",
       "       38854, 28504, 31128, 24712, 20602, 15938, 15335, 10549,  3016,\n",
       "        2339, 62736, 58730, 55086, 50327, 46871, 45855, 41636, 40130,\n",
       "       30388, 27233, 21879, 17276, 12142, 10595,  5798,  3423, 64191,\n",
       "       62783,  2420, 56793, 53618, 42572, 34683, 16209, 18879, 12360,\n",
       "         805, 59482, 55534, 49326, 41435, 35204, 30781, 31909, 34876,\n",
       "       34902, 32960, 35293, 44061, 43103, 42833, 42426, 39243, 36309,\n",
       "       33218, 29963, 27932, 24764, 24326, 21062, 22299, 18995, 15768,\n",
       "       13744, 10998, 12556,  9399, 11150,  8602,  5484,  4432,  4425,\n",
       "        4726,  1439,  1169, 65458, 65480, 64635, 63222, 62869, 61609,\n",
       "       62472, 61612, 58539, 62441, 65113,  1756,   960,   540, 64977,\n",
       "       65451, 65524,  2840,  7394, 10504,  7674,  4458, 11413, 13296,\n",
       "       11421,  7665, 10725,  7745,  3962,  1293, 51629, 44484,  1603,\n",
       "       22948, 25548, 31342,  1391, 22170, 38563, 53044, 47835, 60478,\n",
       "       56571, 59566, 34884, 53590, 55663, 11503, 36791, 21081,  8924,\n",
       "       44174, 29246, 34142, 27081, 21443, 22523, 65090, 50317, 21981,\n",
       "       63536, 44430, 59384, 60885, 23678, 48310, 59705, 65029, 42445,\n",
       "       52929, 43231, 24496, 49517, 39658, 30820,   377, 30714, 44907,\n",
       "       18588, 25560, 55583, 46162, 41095, 55504, 61622,  5277, 39549,\n",
       "       56895, 29323, 42596,   130, 12284, 24610, 44632, 35365, 54254,\n",
       "       54274, 58390,  6271, 48035, 63202, 51537, 34242, 64473, 19345,\n",
       "         760, 15562, 50508, 35682, 61739, 26884, 30387, 58274, 46494,\n",
       "       15653,  7551,  4839, 59849, 37972, 26751, 10378,  5671, 19990,\n",
       "        9572, 14500, 64344, 40921, 36530, 62886, 61427, 40938, 60222,\n",
       "       24268,  1476,  6152, 15620, 59809, 54356, 54017,  8051, 55650,\n",
       "       24048, 57482, 23499, 42187, 25094, 36406,  3043, 62779, 61317,\n",
       "       55253, 51445, 21267, 17032, 48206, 43903,  8870, 54666, 59783,\n",
       "       47013, 38251, 46209, 41338, 41896, 44874, 43590, 40316, 36727,\n",
       "       21397, 31125, 15002, 29772, 17516,  4054, 19342,  9826, 22529,\n",
       "       21304,  4522, 44992, 59504, 12619, 59916, 61585, 39462, 62876,\n",
       "       64450, 58824, 32703, 25626, 54325,  6433, 58662, 12194, 50093,\n",
       "       20167, 25217, 25893, 40206, 42079, 43750, 46258, 32323, 24727,\n",
       "       28774, 12005, 27946,  2278, 49258, 37987, 26895, 55281, 29418,\n",
       "        3411, 38116,   769, 65400, 32677, 51513, 41239,  8896,  6684,\n",
       "       13041, 18249], dtype=uint16)"
      ]
     },
     "execution_count": 38,
     "metadata": {},
     "output_type": "execute_result"
    }
   ],
   "source": [
    "sum(np.image2)"
   ]
  },
  {
   "cell_type": "code",
   "execution_count": 30,
   "metadata": {},
   "outputs": [
    {
     "name": "stdout",
     "output_type": "stream",
     "text": [
      "(848,)\n"
     ]
    },
    {
     "data": {
      "text/plain": [
       "array([    0,     0,     0,     0,     0,     0,     0,     0,     0,\n",
       "           0,     0, 58893, 56775, 13020, 51037, 52140,  8750, 30627,\n",
       "        6803,  7299,  8516, 23184,  7702, 47258,  9802, 18336,  7335,\n",
       "       11924, 30451, 20760, 46885, 33106, 38549,  3895, 14020, 17822,\n",
       "        5686,  9429, 31014, 34034, 36563, 57025, 16232, 23133, 31858,\n",
       "       62154,  2308, 60328, 61496, 60955, 60647, 57027, 56448, 59087,\n",
       "       52056, 62562, 53918, 49998, 45688, 39481, 34151, 26110, 27725,\n",
       "       32868, 30885, 21473, 24259,  8216, 22129, 35369, 49318, 33875,\n",
       "       35484, 34805, 43321, 30514, 25237, 28442, 59882, 57706, 45117,\n",
       "       43678, 34109, 34054, 35181, 35923, 37592, 50678, 60192,  1350,\n",
       "       18270, 16827, 11874, 26522, 28069, 37609, 38240, 41112, 51941,\n",
       "       60317,  3271, 55844,  2114, 59034, 50687, 43365, 29895, 34567,\n",
       "       40238, 27014, 64170, 49371, 55074, 56525, 49497, 44244, 39154,\n",
       "       38188, 38353,  5114,  2779,   971, 13616, 13667, 16596, 20446,\n",
       "       15571, 14241,  5471,  4448,  4102, 59219, 54331, 52896, 53742,\n",
       "       45170, 60953,  9577,  2572,  6678,  6017,  7112,  4874,  3829,\n",
       "        3063, 63765, 64302, 61263, 55187, 58203,   670,   359,   341,\n",
       "       61564, 60253, 58592, 53693, 58728, 42629, 43115, 39359, 36566,\n",
       "       47499, 35144, 40869, 40374, 42415, 35604, 53979, 51907, 46295,\n",
       "       55091, 63145, 63154,    74, 64925, 60231, 58026, 56637, 51899,\n",
       "       54543, 48113, 33697, 29859, 29049, 26668, 25528, 18407, 13648,\n",
       "        8357,  5322,  5539,  4323,  2788,  1754, 62973, 61430, 54704,\n",
       "       49417, 34434, 25605, 25301, 13646, 62870, 47304, 31366, 29430,\n",
       "       27538, 15771, 63879, 52892, 35321, 14420,   389, 21379, 49309,\n",
       "       15638, 65039, 34232, 55227, 36471, 20663, 11555, 11586, 11142,\n",
       "        4622, 60260, 53707, 43806, 42071, 37178, 35643, 31329, 29543,\n",
       "       24734, 19971, 15655, 63526, 54462, 50686, 41150, 28798, 24394,\n",
       "       24697, 24905, 19915, 27192, 28181, 34801, 36689, 41626, 53332,\n",
       "       63090,  5675, 11760, 14245, 15608,  9527, 20442, 22545, 21168,\n",
       "       20863, 19017, 18548, 16811, 17841, 19194, 19889, 19200, 18070,\n",
       "       17997, 17947, 18571, 15783, 19864, 19178, 20330, 21404, 20765,\n",
       "       22302, 21446, 19179, 18790, 18362, 17864, 18170, 17854, 18546,\n",
       "       15886, 17470, 15742,  2021, 46595, 63852, 28070,  8338, 34328,\n",
       "       16016, 50987,  9936, 22161, 40547, 43586, 33443, 54887, 41704,\n",
       "       32382, 65269, 48458, 36387, 39733, 28621, 27361, 24467, 23551,\n",
       "       18575, 15049,  6374,  6312,  6871,  8109,  8688,  8844,  9150,\n",
       "       12502, 11978, 13623, 15327, 17747, 17405, 19285, 21948, 18720,\n",
       "       16539, 19295, 19800, 22017, 24630, 34399, 38571, 46742, 49761,\n",
       "       58539, 64365,  3514, 12888, 19849, 20576, 25164, 25563, 26136,\n",
       "       25847, 28205, 29163, 30057, 30649, 32123, 32848, 31418, 31106,\n",
       "       24053, 23994, 24376, 21428, 29616, 33140, 33307, 33279, 32770,\n",
       "       31580, 31953, 31995, 33407, 33811, 34493, 33989, 34387, 30825,\n",
       "       31520, 31943, 33454, 32490, 31833, 32021, 31455, 32223, 32748,\n",
       "       32235, 32149, 32660, 31334, 31783, 34303, 34541, 34852, 34517,\n",
       "       35624, 35114, 35406, 35979, 35062, 36133, 35995, 35632, 36497,\n",
       "       36560, 36957, 37324, 37010, 36640, 35313, 36091, 35479, 35554,\n",
       "       37606, 36778, 37084, 37362, 36846, 37087, 38741, 38616, 40234,\n",
       "       40038, 41198, 41837, 41767, 41066, 40464, 40056, 40622, 39678,\n",
       "       40468, 40001, 39609, 37790, 40178, 50922, 55884, 57409, 58715,\n",
       "       65037,  1845,  2556,  6633,  6533,  7313, 10199,  9428,  7578,\n",
       "       64170, 57769, 39900, 38526, 61214,  1955,  6902, 10082, 14993,\n",
       "       20743, 28438, 30487, 35049, 40809, 45895, 44400, 49777, 51403,\n",
       "       46493, 47040, 56193,  2737,  7232, 13578, 14249, 13345, 14193,\n",
       "       31704, 32624, 34101, 28880, 27179, 46184, 55200, 56962, 54947,\n",
       "       62535, 59885, 55022, 55310, 62313,  5995, 11102, 10198, 49324,\n",
       "       63470,  1298,  1522,  2650,  5001,  5164,  7310,  7740,  4562,\n",
       "        3676,  4535,  3485,  1734, 63806, 53571, 57370, 54282, 51060,\n",
       "       52041, 48501, 44624, 41294, 39149, 37313, 35400, 34652, 24045,\n",
       "       21852, 10682,  5323, 41586, 38850, 64716,  9996, 39897, 45379,\n",
       "         442, 64121, 60512, 64218, 60671, 56131, 19618, 51989, 30342,\n",
       "       14114,  2780, 33728, 31474,  4302,  3467, 58660, 54158, 64003,\n",
       "       43458, 35833,  9976, 44236, 35077, 23733, 15885, 64726, 59781,\n",
       "        6284, 20519,  4589, 31909, 35818, 35733, 34516, 34117, 33914,\n",
       "       33065, 31767,  1352, 32670, 42244, 65106, 39160,  5575,  9744,\n",
       "       30157, 63850, 38359, 32219, 19437, 37512, 37138, 35812, 38738,\n",
       "       38760, 38562, 39126, 38456, 35857, 39095, 32636, 38364, 40482,\n",
       "       40076, 39890, 32749, 24352, 22161, 25936, 41884, 12810,  2677,\n",
       "        3151, 28417, 35143, 30268, 65069, 45262, 21625,  1898, 15220,\n",
       "       52438,  3486,   566, 48172, 59831,  2375, 55723,  1451, 14234,\n",
       "       15674, 58858, 62166, 44098, 35952, 30360, 38513, 58726, 62268,\n",
       "       10907,  9990, 46307, 11302, 38543, 28047, 28959, 22802,  6035,\n",
       "       55966, 34790,  5374, 25627, 14203, 43322, 39944, 38358, 39689,\n",
       "       38200, 34850, 36563, 35541, 36085, 35759, 38102, 35630, 35911,\n",
       "       40295, 43095, 43856, 44853, 49403, 49941, 59044, 63327,  2614,\n",
       "       17808, 29671, 34803, 41212, 38913, 39320, 41465, 46493, 44171,\n",
       "       40287, 49049, 54850, 59589, 45170, 61837, 52951, 19146, 61522,\n",
       "       20001, 43128, 33260, 15629, 54004, 53248, 32210, 30131, 30401,\n",
       "       13922,  8926, 21501, 38737, 28463,  3928,  8823, 25835, 32040,\n",
       "       56536, 33618, 11175, 11447, 49855, 56783, 30473,  5030, 63565,\n",
       "        1837, 55164, 21499, 23377, 11011, 32765, 15888, 37224, 44490,\n",
       "         859, 22661, 17572, 45598, 60853, 44625, 13130, 13770, 55569,\n",
       "       35274, 25159, 12137, 36511, 35552, 10896, 57386, 24597, 45903,\n",
       "       46519, 51748, 49470, 58209, 65517, 45556, 37592, 38050,   805,\n",
       "       50488, 37330, 17726, 27374, 38296, 55865, 46826,  2478,  4487,\n",
       "       43828, 45068, 60745, 12427,  6617, 49508, 59378, 43581, 23640,\n",
       "       52477,  6407, 47836,  2713, 12389, 45399, 37069, 53380, 21277,\n",
       "       10218, 37541, 40865, 38627, 42755,  8495, 10424,  4519,  7142,\n",
       "       52183, 48206, 38627,  8727, 53878,  6812, 43779,  4718, 35194,\n",
       "       24961,  5327,  8595,  4041, 45254, 31344, 52229,  5153, 26585,\n",
       "       49871, 36657,  3950, 63767, 52389,  4019, 29349, 61984, 38252,\n",
       "       11004, 53142, 64049, 47978, 20273, 61319, 53615, 46214, 13828,\n",
       "        5461, 34883, 20727, 52355, 61423, 62936, 64975, 31683, 51129,\n",
       "       61245,  6613, 63240,  2815,   437,  3874, 18029, 24846, 14799,\n",
       "        6686, 56044,  5261, 49320, 11553, 52519, 39524, 44132, 65383,\n",
       "       21552,  1293], dtype=uint16)"
      ]
     },
     "execution_count": 30,
     "metadata": {},
     "output_type": "execute_result"
    }
   ],
   "source": [
    "print(sum(np.image).shape)\n",
    "sum(np.image)"
   ]
  },
  {
   "cell_type": "code",
   "execution_count": 35,
   "metadata": {},
   "outputs": [
    {
     "data": {
      "text/plain": [
       "array([43489, 34864, 52061,  5073, 19309, 29730, 31862, 26523, 41233,\n",
       "       52966, 11353,  9394, 11263, 11188, 60663, 65100, 11994, 18066,\n",
       "       11783, 26182, 30073, 34889, 43948, 39569, 40586, 41640, 33155,\n",
       "       34808, 30054, 23672, 21659, 21262, 17329, 21398, 21645, 25470,\n",
       "       27741, 31368, 26434, 38501, 34957, 39400, 38238, 39188, 42206,\n",
       "       44805, 34816, 28906, 21171, 22532, 28361, 27750, 27480, 36543,\n",
       "       36059, 32258, 35037, 32594, 32744, 34906, 26015, 20672, 21319,\n",
       "       24809, 31074, 32699, 31657, 37674, 40547, 34959, 33077, 39809,\n",
       "       46429, 35331, 47696, 29513, 13693, 20159, 12362, 13889, 16288,\n",
       "       60220, 60983, 40305, 24994,  4409,  8035, 21780, 57564, 62161,\n",
       "        1771, 40475, 29010, 58976, 25190,  8109, 64493, 63444,  1299,\n",
       "       31546, 13636,  4734, 57966,  2051, 10049, 58549,  1572,  9175,\n",
       "        2075, 63579, 17911, 55968, 56649, 47136, 31082, 37089,  8157,\n",
       "       34303, 12570, 57251,  8661, 20792, 19540, 43824, 54148, 45805,\n",
       "       57027, 39082, 47719, 48459, 58913, 21568,  1452, 25550, 54814,\n",
       "       28810, 39297, 37351, 31501, 31791, 58128, 52847,  7741, 56503,\n",
       "       27464, 45534, 21842, 26861, 30720, 57597, 18568, 25992, 16584,\n",
       "       51010,  6245,  4430, 32851, 32674, 33728, 32021, 37181, 52412,\n",
       "       65122, 52968, 59548, 41349, 32922, 33590, 22201, 15471,  3251,\n",
       "       55570, 30547, 10501, 25221, 27484, 51634, 54249,   900, 60919,\n",
       "       51783,  7203, 11084, 60320, 52800, 52792, 55134, 13346,  9983,\n",
       "       10043, 58419, 25954,  6132, 59996, 26185,  7386, 48088, 63197,\n",
       "       62820, 20726, 43398, 59640,  3380,  1036,  8438, 17457, 14210,\n",
       "       17543, 19996, 46281, 30127,   164,  1126, 32048, 11663, 62559,\n",
       "        7471, 10722, 46694, 27888, 40954,  7751, 49866, 53385, 33871,\n",
       "       54109, 65118, 53171, 51680, 63472, 48243, 32232, 12273, 22471,\n",
       "       22721, 12623,  5519, 60146, 43500, 11778, 17888, 64917, 33770,\n",
       "       28082, 23239, 52811,  5617, 31302, 29336, 34929, 21728, 49999,\n",
       "       62432, 45362,  2901, 61922, 43552, 18976,  5505, 46149, 54621,\n",
       "       18443, 24224, 60468, 12820, 12619, 38078, 37611,  7069, 29152,\n",
       "       57004, 50815,  3983, 63675, 42341, 16244, 36186, 42743, 60256,\n",
       "       11007, 12739, 56307,  3095, 31630,  4576, 61828, 36517, 35176,\n",
       "       62116, 43571, 36071, 63481,  1653, 11488, 37093, 55514, 52460,\n",
       "       61088, 34015, 19109, 62123,  6963, 32807, 44064, 14116, 23485,\n",
       "       59751, 57059, 51108, 51103, 28724, 24058, 64309, 21182, 42662,\n",
       "        9205, 48932, 21368, 25815, 15016, 30552, 41634, 58150, 19993,\n",
       "       31419, 26413, 31159, 52174,  7842, 42611,  4737, 59950, 23110,\n",
       "       44542,  9152, 33620, 32041, 35583, 40339, 18349, 32401, 43075,\n",
       "       45077, 57535, 61139, 62635, 64693,  2410, 64832, 49368, 33359,\n",
       "       25121, 33467, 40060, 36539, 20749,  6765, 11170, 15894, 19463,\n",
       "       23037, 15609, 13775,  6900, 12714, 12584,   118, 62613, 56751,\n",
       "       45409, 34953, 28993, 26706,  7431, 52007,  7809,  5639, 12945,\n",
       "       20160, 21962, 38962, 38304, 44423, 40228, 34943, 37130, 41066,\n",
       "       38048, 39759, 32052, 26089, 24070, 20794, 14231, 62339,  2964,\n",
       "       59830, 63126,  2462,  2153,  3117,  1015,  6978,  4345, 11784,\n",
       "        9823,   365, 61515, 38606, 21770, 11658, 22476, 25545, 34795,\n",
       "       29452, 22856, 25075, 22188, 25514, 26115, 28361, 33004, 37693,\n",
       "       34574, 36344, 28268, 31312, 32696, 40482, 42083, 42206, 25031,\n",
       "        9833, 59428, 60235, 10412, 15525, 21273, 40092, 44100, 42169,\n",
       "       42148, 40886, 38621, 60312,  3652, 21025, 35648, 32087, 33005,\n",
       "       27780, 28411, 21916, 16064,  5817,  5941,  9275, 11013, 14124,\n",
       "        5563, 59645, 59809, 19324, 27744, 45889, 49040, 61589,   525,\n",
       "        1963,  5033,  6747, 21372, 12113, 12626,  5176,  1281, 64286,\n",
       "       28174, 47676, 35437], dtype=uint16)"
      ]
     },
     "execution_count": 35,
     "metadata": {},
     "output_type": "execute_result"
    }
   ],
   "source": [
    "sum(np.image.T)"
   ]
  },
  {
   "cell_type": "code",
   "execution_count": 96,
   "metadata": {},
   "outputs": [
    {
     "data": {
      "text/plain": [
       "rotation: [0.999975, 0.00664581, -0.00249566, -0.0066471, 0.999978, -0.000507153, 0.00249223, 0.000523729, 0.999997]\n",
       "translation: [0.0149223, 0.000452507, -0.000142553]"
      ]
     },
     "execution_count": 96,
     "metadata": {},
     "output_type": "execute_result"
    }
   ],
   "source": [
    "#extrinsics from color frame to depth frame\n",
    "depth_intrin = depthframe1.profile.as_video_stream_profile().intrinsics\n",
    "color_intrin = colframe1.profile.as_video_stream_profile().intrinsics\n",
    "d_to_c_extrin = depthframe1.profile.get_extrinsics_to(colframe1.profile)\n",
    "d_to_c_extrin"
   ]
  },
  {
   "cell_type": "code",
   "execution_count": 102,
   "metadata": {},
   "outputs": [
    {
     "data": {
      "text/plain": [
       "rotation: [1, 0, 0, 0, 1, 0, 0, 0, 1]\n",
       "translation: [0, 0, 0]"
      ]
     },
     "execution_count": 102,
     "metadata": {},
     "output_type": "execute_result"
    }
   ],
   "source": [
    "depthframe1.profile.get_extrinsics_to(depthframe1.profile)"
   ]
  },
  {
   "cell_type": "code",
   "execution_count": 60,
   "metadata": {},
   "outputs": [
    {
     "ename": "NameError",
     "evalue": "name 'pipe_profile' is not defined",
     "output_type": "error",
     "traceback": [
      "\u001b[0;31m---------------------------------------------------------------------------\u001b[0m",
      "\u001b[0;31mNameError\u001b[0m                                 Traceback (most recent call last)",
      "\u001b[0;32m<ipython-input-60-4888d9323d45>\u001b[0m in \u001b[0;36m<module>\u001b[0;34m\u001b[0m\n\u001b[1;32m      3\u001b[0m \u001b[0;31m#retrieve the depth of pixels in meters\u001b[0m\u001b[0;34m\u001b[0m\u001b[0;34m\u001b[0m\u001b[0;34m\u001b[0m\u001b[0m\n\u001b[1;32m      4\u001b[0m \u001b[0;31m#depth scale - units of the values inside depth frame\u001b[0m\u001b[0;34m\u001b[0m\u001b[0;34m\u001b[0m\u001b[0;34m\u001b[0m\u001b[0m\n\u001b[0;32m----> 5\u001b[0;31m \u001b[0mdepth_sensor\u001b[0m \u001b[0;34m=\u001b[0m \u001b[0mpipe_profile\u001b[0m\u001b[0;34m.\u001b[0m\u001b[0mget_device\u001b[0m\u001b[0;34m(\u001b[0m\u001b[0;34m)\u001b[0m\u001b[0;34m.\u001b[0m\u001b[0mfirst_depth_sensor\u001b[0m\u001b[0;34m(\u001b[0m\u001b[0;34m)\u001b[0m\u001b[0;34m\u001b[0m\u001b[0;34m\u001b[0m\u001b[0m\n\u001b[0m\u001b[1;32m      6\u001b[0m \u001b[0mdepth_scale\u001b[0m \u001b[0;34m=\u001b[0m \u001b[0mdepth_sensor\u001b[0m\u001b[0;34m.\u001b[0m\u001b[0mget_depth_scale\u001b[0m\u001b[0;34m(\u001b[0m\u001b[0;34m)\u001b[0m\u001b[0;34m\u001b[0m\u001b[0;34m\u001b[0m\u001b[0m\n\u001b[1;32m      7\u001b[0m \u001b[0mdepth_scale\u001b[0m\u001b[0;34m\u001b[0m\u001b[0;34m\u001b[0m\u001b[0m\n",
      "\u001b[0;31mNameError\u001b[0m: name 'pipe_profile' is not defined"
     ]
    }
   ],
   "source": [
    "#depth is stored as one unsigned 16-bit integer per pixel\n",
    "#distance in meters\n",
    "#retrieve the depth of pixels in meters\n",
    "#depth scale - units of the values inside depth frame\n",
    "depth_sensor = pipe_profile.get_device().first_depth_sensor()\n",
    "depth_scale = depth_sensor.get_depth_scale()\n",
    "depth_scale"
   ]
  },
  {
   "cell_type": "code",
   "execution_count": 8,
   "metadata": {},
   "outputs": [],
   "source": [
    "#map depth to color\n",
    "depth_pixel = [240,320] #random point\n",
    "depth_point = rs.rs2_deproject_pixel_to_point(depth_intrin, depth_pixel, depth_scale)\n",
    "color_point = rs.rs2_transform_point_to_point(depth_to_color_extrin, depth_point)\n",
    "color_pixel = rs.rs2_project_point_to_pixel(color_intrin, color_point)\n",
    "pipeline.stop()"
   ]
  },
  {
   "cell_type": "code",
   "execution_count": 9,
   "metadata": {},
   "outputs": [
    {
     "name": "stdout",
     "output_type": "stream",
     "text": [
      "[-0.0006133948918431997, -7.135550549719483e-05, 0.0010000000474974513]\n",
      "[0.014311893843114376, 0.0003776001394726336, 0.0008590113138779998]\n",
      "[10583.90625, 507.1816711425781]\n"
     ]
    }
   ],
   "source": [
    "print(depth_point)\n",
    "print(color_point)\n",
    "print(color_pixel)"
   ]
  },
  {
   "cell_type": "code",
   "execution_count": null,
   "metadata": {},
   "outputs": [],
   "source": [
    "cv2.calibrateCamera"
   ]
  }
 ],
 "metadata": {
  "kernelspec": {
   "display_name": "Python 3",
   "language": "python",
   "name": "python3"
  },
  "language_info": {
   "codemirror_mode": {
    "name": "ipython",
    "version": 3
   },
   "file_extension": ".py",
   "mimetype": "text/x-python",
   "name": "python",
   "nbconvert_exporter": "python",
   "pygments_lexer": "ipython3",
   "version": "3.7.4"
  }
 },
 "nbformat": 4,
 "nbformat_minor": 2
}
